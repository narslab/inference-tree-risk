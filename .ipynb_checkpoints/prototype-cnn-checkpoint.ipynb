{
 "cells": [
  {
   "cell_type": "code",
   "execution_count": 17,
   "metadata": {},
   "outputs": [],
   "source": [
    "from PIL import Image # used for loading images\n",
    "import numpy as np\n",
    "import os # used for navigating to image path\n",
    "import imageio # used for writing images\n",
    "import re\n",
    "\n",
    "import tensorflow as tf\n",
    "from tensorflow.keras import datasets, layers, models\n",
    "import matplotlib.pyplot as plt"
   ]
  },
  {
   "cell_type": "code",
   "execution_count": 4,
   "metadata": {},
   "outputs": [],
   "source": [
    "# source: https://thispointer.com/python-how-to-get-list-of-files-in-directory-and-sub-directories/\n",
    "def getListOfFiles(dirName):\n",
    "    # create a list of file and sub directories \n",
    "    # names in the given directory \n",
    "    listOfFile = os.listdir(dirName)\n",
    "    allFiles = list()\n",
    "    # Iterate over all the entries\n",
    "    for entry in listOfFile:\n",
    "        # Create full path\n",
    "        fullPath = os.path.join(dirName, entry)\n",
    "        # If entry is a directory then get the list of files in this directory \n",
    "        if os.path.isdir(fullPath):\n",
    "            allFiles = allFiles + getListOfFiles(fullPath)\n",
    "        else:\n",
    "            allFiles.append(fullPath)\n",
    "                \n",
    "    return allFiles"
   ]
  },
  {
   "cell_type": "code",
   "execution_count": 7,
   "metadata": {},
   "outputs": [],
   "source": [
    "raw_image_dir = 'data/raw/Pictures for AI'\n",
    "image_file_list = getListOfFiles(raw_image_dir)"
   ]
  },
  {
   "cell_type": "code",
   "execution_count": 23,
   "metadata": {},
   "outputs": [],
   "source": [
    "imdat = np.array(Image.open(image_file_list[1]))"
   ]
  },
  {
   "cell_type": "code",
   "execution_count": 30,
   "metadata": {},
   "outputs": [
    {
     "data": {
      "text/plain": [
       "(3024, 4032, 3)"
      ]
     },
     "execution_count": 30,
     "metadata": {},
     "output_type": "execute_result"
    }
   ],
   "source": [
    "np.shape(imdat)"
   ]
  },
  {
   "cell_type": "code",
   "execution_count": 32,
   "metadata": {},
   "outputs": [
    {
     "name": "stdout",
     "output_type": "stream",
     "text": [
      "data/tidy/labeled_images/improbable1.jpg\n",
      "data/tidy/labeled_images/improbable2.jpg\n",
      "data/tidy/labeled_images/probable1.jpg\n",
      "data/tidy/labeled_images/improbable3.jpg\n",
      "data/tidy/labeled_images/improbable4.jpg\n",
      "data/tidy/labeled_images/improbable5.jpg\n",
      "data/tidy/labeled_images/improbable6.jpg\n",
      "data/tidy/labeled_images/improbable7.jpg\n",
      "data/tidy/labeled_images/improbable8.jpg\n"
     ]
    }
   ],
   "source": [
    "probable_counter = 1\n",
    "improbable_counter = 1\n",
    "tidy_image_dir = 'data/tidy/labeled_images/'\n",
    "if not os.path.exists(tidy_image_dir):\n",
    "    os.makedirs(tidy_image_dir)\n",
    "for filename in image_file_list[1:10]:\n",
    "    if any(re.findall(r'improbable', filename, re.IGNORECASE)):\n",
    "        save_name = tidy_image_dir + 'improbable' + str(improbable_counter) + '.jpg'\n",
    "        improbable_counter += 1\n",
    "    elif any(re.findall(r'probable|possible', filename, re.IGNORECASE)):\n",
    "        save_name = tidy_image_dir + 'probable' + '-' + str(probable_counter) + '.jpg'\n",
    "        probable_counter += 1\n",
    "    print(save_name)\n",
    "    imageio.imwrite(save_name, np.array(Image.open(filename)))"
   ]
  },
  {
   "cell_type": "code",
   "execution_count": null,
   "metadata": {},
   "outputs": [],
   "source": [
    "model = models.Sequential([\n",
    "    layers.Conv2D(64, 7, activation=\"relu\", padding=\"same\", input_shape = [28, 28, 1 ]), #input shape of course needs to be changed\n",
    "    layers.MaxPooling2D(2),\n",
    "    layers.Conv2D(128, 3, activation=\"relu\", padding=\"same\"),\n",
    "    layers.Conv2D(128, 3, activation=\"relu\", padding=\"same\"),\n",
    "    layers.MaxPooling2D(2),\n",
    "    layers.Conv2D(256, 3, activation=\"relu\", padding=\"same\"),\n",
    "    layers.Conv2D(256, 3, activation=\"relu\", padding=\"same\"),\n",
    "    layers.MaxPooling2D(2),\n",
    "    layers.Flatten(),\n",
    "    layers.Dense(128, activation=\"relu\"),\n",
    "    layers.Dropout(0.5),\n",
    "    layers.Dense(64, activation=\"relu\"),\n",
    "    layers.Dropout(0.5),\n",
    "    layers.Dense(10, activation=\"softmax\")\n",
    "])"
   ]
  }
 ],
 "metadata": {
  "kernelspec": {
   "display_name": "Python 3",
   "language": "python",
   "name": "python3"
  },
  "language_info": {
   "codemirror_mode": {
    "name": "ipython",
    "version": 3
   },
   "file_extension": ".py",
   "mimetype": "text/x-python",
   "name": "python",
   "nbconvert_exporter": "python",
   "pygments_lexer": "ipython3",
   "version": "3.8.6"
  }
 },
 "nbformat": 4,
 "nbformat_minor": 4
}
