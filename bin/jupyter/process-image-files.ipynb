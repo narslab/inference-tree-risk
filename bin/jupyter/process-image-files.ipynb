{
 "cells": [
  {
   "cell_type": "code",
   "execution_count": 2,
   "metadata": {},
   "outputs": [],
   "source": [
    "from PIL import Image # used for loading images\n",
    "import numpy as np\n",
    "import os # used for navigating to image path\n",
    "import imageio # used for writing images\n",
    "import re # for matching image file name classes\n",
    "import random\n",
    "\n",
    "import tensorflow as tf\n",
    "from tensorflow.keras import datasets, layers, models\n",
    "import matplotlib.pyplot as plt"
   ]
  },
  {
   "cell_type": "code",
   "execution_count": 2,
   "metadata": {},
   "outputs": [],
   "source": [
    "# source: https://thispointer.com/python-how-to-get-list-of-files-in-directory-and-sub-directories/\n",
    "def getListOfFiles(dirName):\n",
    "    # create a list of file and sub directories \n",
    "    # names in the given directory \n",
    "    listOfFile = os.listdir(dirName)\n",
    "    allFiles = list()\n",
    "    # Iterate over all the entries\n",
    "    for entry in listOfFile:\n",
    "        # Create full path\n",
    "        fullPath = os.path.join(dirName, entry)\n",
    "        # If entry is a directory then get the list of files in this directory \n",
    "        if os.path.isdir(fullPath):\n",
    "            allFiles = allFiles + getListOfFiles(fullPath)\n",
    "        else:\n",
    "            allFiles.append(fullPath)\n",
    "                \n",
    "    return allFiles"
   ]
  },
  {
   "cell_type": "markdown",
   "metadata": {},
   "source": [
    "Here, we read in all the image files from the raw image folder (\"Pictures for AI\") and then sequentially number then into two groups: \"Improbable\" and \"Probable\"."
   ]
  },
  {
   "cell_type": "code",
   "execution_count": 3,
   "metadata": {},
   "outputs": [],
   "source": [
    "raw_image_dir = '../../data/raw/Pictures for AI'\n",
    "image_file_list = getListOfFiles(raw_image_dir)"
   ]
  },
  {
   "cell_type": "code",
   "execution_count": 24,
   "metadata": {},
   "outputs": [
    {
     "name": "stdout",
     "output_type": "stream",
     "text": [
      "../../data/raw/Pictures for AI/Site 42/Site 42_Infrastructure.docx\n",
      "../../data/raw/Pictures for AI/Site 67/Site 47_Infrastructure.docx\n",
      "../../data/raw/Pictures for AI/Site 41/Site 41_Infrastructure.docx\n"
     ]
    }
   ],
   "source": [
    "for filename in image_file_list:\n",
    "    if '.JPG' in filename or '.jpg' in filename:        \n",
    "        pass\n",
    "    else:\n",
    "        print(filename)"
   ]
  },
  {
   "cell_type": "code",
   "execution_count": 25,
   "metadata": {},
   "outputs": [
    {
     "name": "stdout",
     "output_type": "stream",
     "text": [
      "Number of probable images saved: 103\n",
      "Number of improbable images saved: 259\n"
     ]
    }
   ],
   "source": [
    "probable_counter = 1\n",
    "improbable_counter = 1\n",
    "tidy_image_dir = '../../data/tidy/labeled_images/'\n",
    "if not os.path.exists(tidy_image_dir):\n",
    "    os.makedirs(tidy_image_dir)\n",
    "for filename in image_file_list:\n",
    "    if '.JPG' in filename or '.jpg' in filename:        \n",
    "        if any(re.findall(r'improbable', filename, re.IGNORECASE)):\n",
    "            save_name = tidy_image_dir + 'improbable' + '-' + str(improbable_counter) + '.jpg'\n",
    "            improbable_counter += 1\n",
    "        elif any(re.findall(r'probable|possible', filename, re.IGNORECASE)):\n",
    "            save_name = tidy_image_dir + 'probable' + '-' + str(probable_counter) + '.jpg'\n",
    "            probable_counter += 1   \n",
    "        imageio.imwrite(save_name, np.array(Image.open(filename)))\n",
    "print('Number of probable images saved:', probable_counter-1)\n",
    "print('Number of improbable images saved:', improbable_counter-1) "
   ]
  }
 ],
 "metadata": {
  "kernelspec": {
   "display_name": "Python 3",
   "language": "python",
   "name": "python3"
  },
  "language_info": {
   "codemirror_mode": {
    "name": "ipython",
    "version": 3
   },
   "file_extension": ".py",
   "mimetype": "text/x-python",
   "name": "python",
   "nbconvert_exporter": "python",
   "pygments_lexer": "ipython3",
   "version": "3.8.6"
  }
 },
 "nbformat": 4,
 "nbformat_minor": 4
}
