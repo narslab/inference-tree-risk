{
 "cells": [
  {
   "cell_type": "code",
   "execution_count": 1,
   "metadata": {},
   "outputs": [],
   "source": [
    "from PIL import Image # used for loading images\n",
    "import numpy as np\n",
    "import os # used for navigating to image path\n",
    "import imageio # used for writing images\n",
    "import re # for matching image file name classes"
   ]
  },
  {
   "cell_type": "code",
   "execution_count": 3,
   "metadata": {},
   "outputs": [],
   "source": [
    "raw_image_dir = '../../data/raw/Pictures for AI'"
   ]
  },
  {
   "cell_type": "code",
   "execution_count": 1,
   "metadata": {},
   "outputs": [],
   "source": [
    "def getListOfFiles(dirName):\n",
    "    \"\"\"Returns single list of the filepath of each of the training image files\"\"\"\n",
    "    # source: https://thispointer.com/python-how-to-get-list-of-files-in-directory-and-sub-directories/\n",
    "    listOfFile = os.listdir(dirName)\n",
    "    allFiles = list()\n",
    "    # Iterate over all the entries\n",
    "    for entry in listOfFile:\n",
    "        # Create full path\n",
    "        fullPath = os.path.join(dirName, entry)\n",
    "        # If entry is a directory then get the list of files in this directory \n",
    "        if os.path.isdir(fullPath):\n",
    "            allFiles = allFiles + getListOfFiles(fullPath)\n",
    "        else:\n",
    "            allFiles.append(fullPath)\n",
    "                \n",
    "    return allFiles"
   ]
  },
  {
   "cell_type": "code",
   "execution_count": 2,
   "metadata": {},
   "outputs": [],
   "source": [
    "def saveImageFilesBinary(image_file_list):\n",
    "    \"\"\"Serially labels all images by class (probable or improbable) and saves them to data/tidy/labeled_images\"\"\"\n",
    "    probable_counter = 1\n",
    "    improbable_counter = 1\n",
    "    tidy_image_dir = '../../data/tidy/labeled_images_2_classes/'\n",
    "    if not os.path.exists(tidy_image_dir):\n",
    "        os.makedirs(tidy_image_dir)\n",
    "    for filename in image_file_list:\n",
    "        if '.JPG' in filename or '.jpg' in filename:        \n",
    "            if any(re.findall(r'improbable', filename, re.IGNORECASE)):\n",
    "                save_name = tidy_image_dir + 'improbable' + '-' + str(improbable_counter) + '.jpg'\n",
    "                improbable_counter += 1\n",
    "            elif any(re.findall(r'probable|possible', filename, re.IGNORECASE)):\n",
    "                save_name = tidy_image_dir + 'probable' + '-' + str(probable_counter) + '.jpg'\n",
    "                probable_counter += 1   \n",
    "            imageio.imwrite(save_name, np.array(Image.open(filename)))\n",
    "    print('Number of probable images saved:', probable_counter-1)\n",
    "    print('Number of improbable images saved:', improbable_counter-1) \n",
    "\n",
    "def saveImageFilesTernary(image_file_list):\n",
    "    \"\"\"Serially labels all images by class (probable, possible or improbable) and saves them to data/tidy/labeled_images\"\"\"\n",
    "    probable_counter = 1\n",
    "    improbable_counter = 1\n",
    "    possible_counter = 1\n",
    "    tidy_image_dir = '../../data/tidy/labeled_images_3_classes/'\n",
    "    if not os.path.exists(tidy_image_dir):\n",
    "        os.makedirs(tidy_image_dir)\n",
    "    for filename in image_file_list:\n",
    "        if '.JPG' in filename or '.jpg' in filename:        \n",
    "            if any(re.findall(r'improbable', filename, re.IGNORECASE)):\n",
    "                save_name = tidy_image_dir + 'improbable' + '-' + str(improbable_counter) + '.jpg'\n",
    "                improbable_counter += 1\n",
    "            elif any(re.findall(r'probable', filename, re.IGNORECASE)):\n",
    "                save_name = tidy_image_dir + 'probable' + '-' + str(probable_counter) + '.jpg'\n",
    "                probable_counter += 1 \n",
    "            elif any(re.findall(r'possible', filename, re.IGNORECASE)):\n",
    "                save_name = tidy_image_dir + 'possible' + '-' + str(possible_counter) + '.jpg'\n",
    "                possible_counter += 1 \n",
    "            imageio.imwrite(save_name, np.array(Image.open(filename)))\n",
    "    print('Number of probable images saved:', probable_counter-1)\n",
    "    print('Number of possible images saved:', possible_counter-1)\n",
    "    print('Number of improbable images saved:', improbable_counter-1) "
   ]
  },
  {
   "cell_type": "code",
   "execution_count": 4,
   "metadata": {},
   "outputs": [
    {
     "name": "stdout",
     "output_type": "stream",
     "text": [
      "Number of probable images saved: 40\n",
      "Number of possible images saved: 63\n",
      "Number of improbable images saved: 259\n"
     ]
    }
   ],
   "source": [
    "def main():    \n",
    "    tree_image_list = getListOfFiles(raw_image_dir)\n",
    "    saveImageFilesBinary(tree_image_list)\n",
    "    saveImageFilesTernary(tree_image_list)\n",
    "\n",
    "if __name__ == \"__main__\":\n",
    "    main()\n",
    "\n"
   ]
  }
 ],
 "metadata": {
  "kernelspec": {
   "display_name": "Python 3",
   "language": "python",
   "name": "python3"
  },
  "language_info": {
   "codemirror_mode": {
    "name": "ipython",
    "version": 3
   },
   "file_extension": ".py",
   "mimetype": "text/x-python",
   "name": "python",
   "nbconvert_exporter": "python",
   "pygments_lexer": "ipython3",
   "version": "3.8.6"
  }
 },
 "nbformat": 4,
 "nbformat_minor": 4
}
