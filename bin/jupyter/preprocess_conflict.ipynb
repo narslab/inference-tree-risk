{
 "cells": [
  {
   "cell_type": "code",
   "execution_count": 5,
   "id": "04725629-78b2-4565-989a-1a7d8945a591",
   "metadata": {},
   "outputs": [],
   "source": [
    "from PIL import Image\n",
    "import numpy as np\n",
    "import os # used for navigating to image path\n",
    "import imageio # used for writing images\n",
    "import random\n",
    "import matplotlib.pyplot as plt\n",
    "from sklearn.model_selection import train_test_split\n",
    "# from helpers import *\n",
    "from itertools import product"
   ]
  },
  {
   "cell_type": "code",
   "execution_count": 8,
   "id": "278d9416-67cb-456a-9918-787477ce7150",
   "metadata": {},
   "outputs": [],
   "source": [
    "LABELED_IMAGES_DIR = '../../data/tidy/labeled-images'\n",
    "CONFLICT_SPLIT_DIR = '../../data/tidy/labeled-split-images'\n",
    "# PROCESSED_IMAGES_DIR = '../../data/tidy/preprocessed-images'"
   ]
  },
  {
   "cell_type": "code",
   "execution_count": 16,
   "id": "c1aae09f-f04c-4d89-8dcc-0d199d49cd40",
   "metadata": {},
   "outputs": [],
   "source": [
    "if not os.path.exists(CONFLICT_SPLIT_DIR): # check if 'tidy/preprocessed_images' subdirectory does not exist\n",
    "        os.makedirs(CONFLICT_SPLIT_DIR)"
   ]
  },
  {
   "cell_type": "code",
   "execution_count": 37,
   "id": "8b9034c9-419f-478f-83f9-5d9defc33be4",
   "metadata": {},
   "outputs": [],
   "source": [
    "def tile(filename, dir_in, dir_out, d=9):\n",
    "    name, ext = os.path.splitext(filename)\n",
    "    img = Image.open(os.path.join(dir_in, filename))\n",
    "    w, h = img.size\n",
    "    print (img.size)\n",
    "    grid = product(range(0, h, int(h/d)), range(0, w, int(w/d)))\n",
    "    for i, j in grid:\n",
    "        print(i,j)\n",
    "        box = (j, i, j+int(w/d), i+int(h/d))\n",
    "        out = os.path.join(dir_out, f'{name}_{i}_{j}{ext}')\n",
    "        img.crop(box).save(out)"
   ]
  },
  {
   "cell_type": "code",
   "execution_count": 38,
   "id": "8e4b83d7-05da-4462-a266-b978d5ccd634",
   "metadata": {},
   "outputs": [
    {
     "name": "stdout",
     "output_type": "stream",
     "text": [
      "(4032, 3024)\n",
      "0 0\n",
      "0 448\n",
      "0 896\n",
      "0 1344\n",
      "0 1792\n",
      "0 2240\n",
      "0 2688\n",
      "0 3136\n",
      "0 3584\n",
      "336 0\n",
      "336 448\n",
      "336 896\n",
      "336 1344\n",
      "336 1792\n",
      "336 2240\n",
      "336 2688\n",
      "336 3136\n",
      "336 3584\n",
      "672 0\n",
      "672 448\n",
      "672 896\n",
      "672 1344\n",
      "672 1792\n",
      "672 2240\n",
      "672 2688\n",
      "672 3136\n",
      "672 3584\n",
      "1008 0\n",
      "1008 448\n",
      "1008 896\n",
      "1008 1344\n",
      "1008 1792\n",
      "1008 2240\n",
      "1008 2688\n",
      "1008 3136\n",
      "1008 3584\n",
      "1344 0\n",
      "1344 448\n",
      "1344 896\n",
      "1344 1344\n",
      "1344 1792\n",
      "1344 2240\n",
      "1344 2688\n",
      "1344 3136\n",
      "1344 3584\n",
      "1680 0\n",
      "1680 448\n",
      "1680 896\n",
      "1680 1344\n",
      "1680 1792\n",
      "1680 2240\n",
      "1680 2688\n",
      "1680 3136\n",
      "1680 3584\n",
      "2016 0\n",
      "2016 448\n",
      "2016 896\n",
      "2016 1344\n",
      "2016 1792\n",
      "2016 2240\n",
      "2016 2688\n",
      "2016 3136\n",
      "2016 3584\n",
      "2352 0\n",
      "2352 448\n",
      "2352 896\n",
      "2352 1344\n",
      "2352 1792\n",
      "2352 2240\n",
      "2352 2688\n",
      "2352 3136\n",
      "2352 3584\n",
      "2688 0\n",
      "2688 448\n",
      "2688 896\n",
      "2688 1344\n",
      "2688 1792\n",
      "2688 2240\n",
      "2688 2688\n",
      "2688 3136\n",
      "2688 3584\n"
     ]
    }
   ],
   "source": [
    "# image_list = os.listdir(LABELED_IMAGES_DIR)\n",
    "# for image in image_list:\n",
    "tile('improbable-1.jpg', LABELED_IMAGES_DIR, CONFLICT_SPLIT_DIR)"
   ]
  },
  {
   "cell_type": "code",
   "execution_count": null,
   "id": "674a93f2-e18f-447e-b355-cc78cda3a1fa",
   "metadata": {},
   "outputs": [],
   "source": []
  }
 ],
 "metadata": {
  "kernelspec": {
   "display_name": "Python 3",
   "language": "python",
   "name": "python3"
  },
  "language_info": {
   "codemirror_mode": {
    "name": "ipython",
    "version": 3
   },
   "file_extension": ".py",
   "mimetype": "text/x-python",
   "name": "python",
   "nbconvert_exporter": "python",
   "pygments_lexer": "ipython3",
   "version": "3.8.3"
  }
 },
 "nbformat": 4,
 "nbformat_minor": 5
}
