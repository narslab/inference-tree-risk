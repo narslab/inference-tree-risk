{
 "cells": [
  {
   "cell_type": "code",
   "execution_count": 48,
   "id": "2a7edc27-de07-459a-8e4a-d1097ac72be8",
   "metadata": {},
   "outputs": [],
   "source": [
    "import numpy as np\n",
    "import pandas as pd\n",
    "import os # used for navigating to image path\n",
    "import csv"
   ]
  },
  {
   "cell_type": "code",
   "execution_count": 49,
   "id": "94324433-dd3a-40b6-a8c4-204aa33b585d",
   "metadata": {},
   "outputs": [],
   "source": [
    "ALL_TILES = '../../data/tidy/conflict-split-images/all_tiles/'\n",
    "TILES_ASSIGNMENT = '../../data/tidy/conflict-split-images/tiles_assignment.csv'"
   ]
  },
  {
   "cell_type": "code",
   "execution_count": 50,
   "id": "d1cc6ec1-e01e-4e28-aeed-747d1613cacc",
   "metadata": {},
   "outputs": [],
   "source": [
    "def assign_sample_tiles(unassigned_tiles_path):\n",
    "    \"\"\"Randomly classifies tiles as 'c'(conflict) or 'n'(no conflict)\"\"\"\n",
    "    \n",
    "    data = pd.read_csv(unassigned_tiles_path)\n",
    "#     data = data.drop([0])\n",
    "    \n",
    "    data['Classification'] = np.random.choice(['c','n'], size=len(data))\n",
    "    \n",
    "    return(data)"
   ]
  },
  {
   "cell_type": "code",
   "execution_count": 166,
   "id": "fc75582d-7eab-444a-80fd-fe28f0f10264",
   "metadata": {},
   "outputs": [],
   "source": [
    "sample_df = assign_sample_tiles(TILES_ASSIGNMENT)"
   ]
  },
  {
   "cell_type": "code",
   "execution_count": 52,
   "id": "55b92b65-a6d5-4f3e-84a3-501f685a59db",
   "metadata": {},
   "outputs": [],
   "source": [
    "def generate_index(sample_data): #path_to_tiles_assignment\n",
    "    \"\"\"Serially labels all tiles by class and generates an index to data/tidy/conflict_split_images\"\"\"\n",
    "    \n",
    "#     data = pd.read_csv(path_to_tiles_assignment)\n",
    "#     data = data.drop([0])\n",
    "    \n",
    "    df = pd.DataFrame(columns=['original', 'tile', 'classification'])\n",
    "    \n",
    "    conflict_counter    = 1\n",
    "    no_conflict_counter = 1\n",
    "    unknown_counter = 1\n",
    "    counters = {}\n",
    "        \n",
    "    for row in sample_data.itertuples():\n",
    "        tile = row.Filename\n",
    "        original_image = str(os.path.splitext(tile)).split('_')[0][2:]\n",
    "        classification = row.Classification\n",
    "\n",
    "        if classification.lower() == 'c':        \n",
    "            save_label = 'conflict' + '-' + str(conflict_counter) + '.jpg'\n",
    "            df.loc[row.Index] = [original_image] + [tile] + [save_label]\n",
    "            conflict_counter += 1\n",
    "        elif classification.lower() == 'n':\n",
    "            save_label = 'no_conflict' + '-' + str(no_conflict_counter) + '.jpg'\n",
    "            df.loc[row.Index] = [original_image] + [tile] + [save_label]\n",
    "            no_conflict_counter += 1\n",
    "        else:\n",
    "            save_label = 'unknown' + '-' + str(unknown_counter) + '.jpg'\n",
    "            df.loc[row.Index] = [original_image] + [tile] + [save_label]\n",
    "            unknown_counter += 1\n",
    "    \n",
    "    df.to_csv('../../data/tidy/conflict-split-images/tile_index_mapping.csv', encoding='utf-8', index=False)\n",
    "    \n",
    "    counters['conflict'] = conflict_counter - 1\n",
    "    counters['no_conflict'] = no_conflict_counter - 1\n",
    "    counters['unknown'] = unknown_counter -1 \n",
    "    \n",
    "    print('Number of conflict tiles recorded:', conflict_counter - 1)    \n",
    "    print('Number of no-conflict tiles recorded:', no_conflict_counter - 1)\n",
    "    print('Number of unknown tiles:', unknown_counter - 1)\n",
    "        \n",
    "    return df, counters"
   ]
  },
  {
   "cell_type": "code",
   "execution_count": 167,
   "id": "e92c7003-35f7-4645-88a4-8a33cc6ee44d",
   "metadata": {},
   "outputs": [
    {
     "name": "stdout",
     "output_type": "stream",
     "text": [
      "Number of conflict tiles recorded: 267\n",
      "Number of no-conflict tiles recorded: 299\n",
      "Number of unknown tiles: 0\n"
     ]
    }
   ],
   "source": [
    "df, c = generate_index(sample_df)"
   ]
  },
  {
   "cell_type": "code",
   "execution_count": 162,
   "id": "6737c4e5-13a5-4324-bce5-388675e8d4d6",
   "metadata": {},
   "outputs": [
    {
     "data": {
      "text/html": [
       "<div>\n",
       "<style scoped>\n",
       "    .dataframe tbody tr th:only-of-type {\n",
       "        vertical-align: middle;\n",
       "    }\n",
       "\n",
       "    .dataframe tbody tr th {\n",
       "        vertical-align: top;\n",
       "    }\n",
       "\n",
       "    .dataframe thead th {\n",
       "        text-align: right;\n",
       "    }\n",
       "</style>\n",
       "<table border=\"1\" class=\"dataframe\">\n",
       "  <thead>\n",
       "    <tr style=\"text-align: right;\">\n",
       "      <th></th>\n",
       "      <th>original</th>\n",
       "      <th>tile</th>\n",
       "      <th>classification</th>\n",
       "    </tr>\n",
       "  </thead>\n",
       "  <tbody>\n",
       "    <tr>\n",
       "      <th>1</th>\n",
       "      <td>improbable-1</td>\n",
       "      <td>improbable-1_0_336.jpg</td>\n",
       "      <td>no_conflict-1.jpg</td>\n",
       "    </tr>\n",
       "    <tr>\n",
       "      <th>2</th>\n",
       "      <td>improbable-1</td>\n",
       "      <td>improbable-1_0_672.jpg</td>\n",
       "      <td>no_conflict-2.jpg</td>\n",
       "    </tr>\n",
       "    <tr>\n",
       "      <th>3</th>\n",
       "      <td>improbable-1</td>\n",
       "      <td>improbable-1_0_1008.jpg</td>\n",
       "      <td>conflict-1.jpg</td>\n",
       "    </tr>\n",
       "    <tr>\n",
       "      <th>4</th>\n",
       "      <td>improbable-1</td>\n",
       "      <td>improbable-1_0_1344.jpg</td>\n",
       "      <td>no_conflict-3.jpg</td>\n",
       "    </tr>\n",
       "    <tr>\n",
       "      <th>5</th>\n",
       "      <td>improbable-1</td>\n",
       "      <td>improbable-1_0_1680.jpg</td>\n",
       "      <td>conflict-2.jpg</td>\n",
       "    </tr>\n",
       "    <tr>\n",
       "      <th>...</th>\n",
       "      <td>...</td>\n",
       "      <td>...</td>\n",
       "      <td>...</td>\n",
       "    </tr>\n",
       "    <tr>\n",
       "      <th>562</th>\n",
       "      <td>probable-2</td>\n",
       "      <td>probable-2_3584_1344.jpg</td>\n",
       "      <td>conflict-288.jpg</td>\n",
       "    </tr>\n",
       "    <tr>\n",
       "      <th>563</th>\n",
       "      <td>probable-2</td>\n",
       "      <td>probable-2_3584_1680.jpg</td>\n",
       "      <td>conflict-289.jpg</td>\n",
       "    </tr>\n",
       "    <tr>\n",
       "      <th>564</th>\n",
       "      <td>probable-2</td>\n",
       "      <td>probable-2_3584_2016.jpg</td>\n",
       "      <td>no_conflict-275.jpg</td>\n",
       "    </tr>\n",
       "    <tr>\n",
       "      <th>565</th>\n",
       "      <td>probable-2</td>\n",
       "      <td>probable-2_3584_2352.jpg</td>\n",
       "      <td>no_conflict-276.jpg</td>\n",
       "    </tr>\n",
       "    <tr>\n",
       "      <th>566</th>\n",
       "      <td>probable-2</td>\n",
       "      <td>probable-2_3584_2688.jpg</td>\n",
       "      <td>no_conflict-277.jpg</td>\n",
       "    </tr>\n",
       "  </tbody>\n",
       "</table>\n",
       "<p>566 rows × 3 columns</p>\n",
       "</div>"
      ],
      "text/plain": [
       "         original                      tile       classification\n",
       "1    improbable-1    improbable-1_0_336.jpg    no_conflict-1.jpg\n",
       "2    improbable-1    improbable-1_0_672.jpg    no_conflict-2.jpg\n",
       "3    improbable-1   improbable-1_0_1008.jpg       conflict-1.jpg\n",
       "4    improbable-1   improbable-1_0_1344.jpg    no_conflict-3.jpg\n",
       "5    improbable-1   improbable-1_0_1680.jpg       conflict-2.jpg\n",
       "..            ...                       ...                  ...\n",
       "562    probable-2  probable-2_3584_1344.jpg     conflict-288.jpg\n",
       "563    probable-2  probable-2_3584_1680.jpg     conflict-289.jpg\n",
       "564    probable-2  probable-2_3584_2016.jpg  no_conflict-275.jpg\n",
       "565    probable-2  probable-2_3584_2352.jpg  no_conflict-276.jpg\n",
       "566    probable-2  probable-2_3584_2688.jpg  no_conflict-277.jpg\n",
       "\n",
       "[566 rows x 3 columns]"
      ]
     },
     "execution_count": 162,
     "metadata": {},
     "output_type": "execute_result"
    }
   ],
   "source": [
    "df"
   ]
  },
  {
   "cell_type": "code",
   "execution_count": 155,
   "id": "d309ecf4-132b-4bb9-8094-56ea7b9a7b91",
   "metadata": {},
   "outputs": [
    {
     "data": {
      "text/html": [
       "<div>\n",
       "<style scoped>\n",
       "    .dataframe tbody tr th:only-of-type {\n",
       "        vertical-align: middle;\n",
       "    }\n",
       "\n",
       "    .dataframe tbody tr th {\n",
       "        vertical-align: top;\n",
       "    }\n",
       "\n",
       "    .dataframe thead th {\n",
       "        text-align: right;\n",
       "    }\n",
       "</style>\n",
       "<table border=\"1\" class=\"dataframe\">\n",
       "  <thead>\n",
       "    <tr style=\"text-align: right;\">\n",
       "      <th></th>\n",
       "      <th>original</th>\n",
       "      <th>tile</th>\n",
       "      <th>classification</th>\n",
       "    </tr>\n",
       "  </thead>\n",
       "  <tbody>\n",
       "  </tbody>\n",
       "</table>\n",
       "</div>"
      ],
      "text/plain": [
       "Empty DataFrame\n",
       "Columns: [original, tile, classification]\n",
       "Index: []"
      ]
     },
     "execution_count": 155,
     "metadata": {},
     "output_type": "execute_result"
    }
   ],
   "source": [
    "df[df['classification']=='improbable-1_0_0.jpg']"
   ]
  },
  {
   "cell_type": "code",
   "execution_count": 146,
   "id": "20fa973a-9e2b-4c6a-ba14-aeb82d17b1e9",
   "metadata": {
    "tags": []
   },
   "outputs": [],
   "source": [
    "def rename_tiles_conflict(data):\n",
    "    for filename in os.listdir(ALL_TILES):\n",
    "        for row in data.itertuples():\n",
    "            tile = row.tile\n",
    "            classification = row.classification\n",
    "            if tile == filename:\n",
    "                os.rename(ALL_TILES + filename, ALL_TILES + classification)\n",
    "                continue"
   ]
  },
  {
   "cell_type": "code",
   "execution_count": 168,
   "id": "35e1b4ff-5497-44a4-8030-45948fac0a76",
   "metadata": {
    "tags": []
   },
   "outputs": [],
   "source": [
    "rename_tiles_conflict(df)"
   ]
  },
  {
   "cell_type": "code",
   "execution_count": 159,
   "id": "56019a9d-3291-4a05-9fbb-329a1dc39acd",
   "metadata": {},
   "outputs": [],
   "source": [
    "SEED = 100  \n",
    "#NUM_PLOT_IMAGES_PER_CLASS = 1 #4 ## NOT USED IN CURRENT IMPLEMENTATION\n",
    "#EXPANSION_FACTOR = 5 #5 of augmented images ## NOT USED IN CURRENT IMPLEMENTATION\n",
    "\n",
    "def getImageOneHotVector(image_file_name):\n",
    "    \"\"\"Returns one-hot vector encoding for each image based on specified classification scenario:\n",
    "    Classification Scenario Pr_Po_Im (3 classes): {probable, possible, improbable}\n",
    "    Classification Scenario Pr_Im (2 classes): {probable, improbable}\n",
    "    Classification Scenario PrPo_Im (2 classes): {{probable, possible}, improbable} \n",
    "    Classification Scenario Pr_PoIm (2 classes): {probable, {possible, improbable}}\n",
    "    \"\"\"\n",
    "    word_label = image_file_name.split('-')[0]\n",
    "    if word_label == 'conflict' : \n",
    "        return 1\n",
    "    elif word_label == 'no_conflict': \n",
    "        return 0\n",
    "    else:\n",
    "        return -1 # if label is not present for current image"
   ]
  },
  {
   "cell_type": "code",
   "execution_count": 169,
   "id": "3ce9d334-6917-4483-b780-c2d0a0366b2a",
   "metadata": {},
   "outputs": [],
   "source": [
    "labels = []\n",
    "for filename in os.listdir(ALL_TILES):\n",
    "    labels.append(filename.split('-')[0])"
   ]
  },
  {
   "cell_type": "code",
   "execution_count": 170,
   "id": "50e97e8c-8c67-4bd2-b4fa-3ca4ee56617f",
   "metadata": {},
   "outputs": [
    {
     "name": "stdout",
     "output_type": "stream",
     "text": [
      "{'no_conflict', 'improbable', 'conflict'}\n"
     ]
    }
   ],
   "source": [
    "print(set(labels))"
   ]
  },
  {
   "cell_type": "code",
   "execution_count": null,
   "id": "a0a52fff-4ce1-4c48-8090-4b29c740c49d",
   "metadata": {},
   "outputs": [],
   "source": []
  }
 ],
 "metadata": {
  "kernelspec": {
   "display_name": "Python 3",
   "language": "python",
   "name": "python3"
  },
  "language_info": {
   "codemirror_mode": {
    "name": "ipython",
    "version": 3
   },
   "file_extension": ".py",
   "mimetype": "text/x-python",
   "name": "python",
   "nbconvert_exporter": "python",
   "pygments_lexer": "ipython3",
   "version": "3.8.3"
  }
 },
 "nbformat": 4,
 "nbformat_minor": 5
}
