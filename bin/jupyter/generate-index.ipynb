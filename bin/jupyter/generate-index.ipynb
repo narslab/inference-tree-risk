{
 "cells": [
  {
   "cell_type": "code",
   "execution_count": 1,
   "id": "2a7edc27-de07-459a-8e4a-d1097ac72be8",
   "metadata": {},
   "outputs": [],
   "source": [
    "import numpy as np\n",
    "import pandas as pd\n",
    "import os # used for navigating to image path\n",
    "import csv"
   ]
  },
  {
   "cell_type": "code",
   "execution_count": 2,
   "id": "94324433-dd3a-40b6-a8c4-204aa33b585d",
   "metadata": {},
   "outputs": [],
   "source": [
    "TILES_ASSIGNMENT = '../../data/tidy/conflict-split-images/tiles_assignment.csv'"
   ]
  },
  {
   "cell_type": "code",
   "execution_count": 11,
   "id": "55b92b65-a6d5-4f3e-84a3-501f685a59db",
   "metadata": {},
   "outputs": [],
   "source": [
    "def generate_index(path_to_tiles_assignment):\n",
    "    \"\"\"Serially labels all tiles by class and generates an index to data/tidy/conflict_split_images\"\"\"\n",
    "    \n",
    "    data = pd.read_csv(path_to_tiles_assignment)\n",
    "    data = data.drop([0])\n",
    "    \n",
    "    df = pd.DataFrame(columns=['original', 'tile', 'classification'])\n",
    "    \n",
    "    conflict_counter    = 1\n",
    "    no_conflict_counter = 1\n",
    "    unknown_counter = 1\n",
    "    counters = {}\n",
    "        \n",
    "    for row in data.itertuples():\n",
    "        tile = row.Filename\n",
    "        original_image = str(os.path.splitext(tile)).split('_')[0][2:]\n",
    "        classification = row.Classification\n",
    "\n",
    "        if classification.lower() == 'c':        \n",
    "            save_label = 'conflict' + '-' + str(conflict_counter) + '.jpg'\n",
    "            df.loc[row.Index] = [original_image] + [tile] + [save_label]\n",
    "            conflict_counter += 1\n",
    "        elif classification.lower() == 'n':\n",
    "            save_label = 'no_conflict' + '-' + str(no_conflict_counter) + '.jpg'\n",
    "            df.loc[row.Index] = [original_image] + [tile] + [save_label]\n",
    "            no_conflict_counter += 1\n",
    "        else:\n",
    "            save_label = 'unknown' + '-' + str(unknown_counter) + '.jpg'\n",
    "            df.loc[row.Index] = [original_image] + [tile] + [save_label]\n",
    "            unknown_counter += 1\n",
    "    \n",
    "    df.to_csv('../../data/tidy/conflict-split-images/tile_index_mapping.csv', encoding='utf-8', index=False)\n",
    "    \n",
    "    counters['conflict'] = conflict_counter - 1\n",
    "    counters['no_conflict'] = no_conflict_counter - 1\n",
    "    counters['unknown'] = unknown_counter -1 \n",
    "    \n",
    "    print('Number of conflict tiles recorded:', conflict_counter - 1)    \n",
    "    print('Number of no-conflict tiles recorded:', no_conflict_counter - 1)\n",
    "    print('Number of unknown tiles:', unknown_counter - 1)\n",
    "        \n",
    "    return df, counters"
   ]
  },
  {
   "cell_type": "code",
   "execution_count": 12,
   "id": "e92c7003-35f7-4645-88a4-8a33cc6ee44d",
   "metadata": {},
   "outputs": [
    {
     "name": "stdout",
     "output_type": "stream",
     "text": [
      "Number of conflict tiles recorded: 40\n",
      "Number of no-conflict tiles recorded: 41\n",
      "Number of unknown tiles: 0\n"
     ]
    }
   ],
   "source": [
    "df, c = generate_index(TILES_ASSIGNMENT)"
   ]
  },
  {
   "cell_type": "code",
   "execution_count": 13,
   "id": "20fa973a-9e2b-4c6a-ba14-aeb82d17b1e9",
   "metadata": {
    "tags": []
   },
   "outputs": [
    {
     "data": {
      "text/html": [
       "<div>\n",
       "<style scoped>\n",
       "    .dataframe tbody tr th:only-of-type {\n",
       "        vertical-align: middle;\n",
       "    }\n",
       "\n",
       "    .dataframe tbody tr th {\n",
       "        vertical-align: top;\n",
       "    }\n",
       "\n",
       "    .dataframe thead th {\n",
       "        text-align: right;\n",
       "    }\n",
       "</style>\n",
       "<table border=\"1\" class=\"dataframe\">\n",
       "  <thead>\n",
       "    <tr style=\"text-align: right;\">\n",
       "      <th></th>\n",
       "      <th>original</th>\n",
       "      <th>tile</th>\n",
       "      <th>classification</th>\n",
       "    </tr>\n",
       "  </thead>\n",
       "  <tbody>\n",
       "    <tr>\n",
       "      <th>1</th>\n",
       "      <td>improbable-1</td>\n",
       "      <td>improbable-1_0_0.jpg</td>\n",
       "      <td>no_conflict-1.jpg</td>\n",
       "    </tr>\n",
       "    <tr>\n",
       "      <th>2</th>\n",
       "      <td>improbable-1</td>\n",
       "      <td>improbable-1_0_336.jpg</td>\n",
       "      <td>conflict-1.jpg</td>\n",
       "    </tr>\n",
       "    <tr>\n",
       "      <th>3</th>\n",
       "      <td>improbable-1</td>\n",
       "      <td>improbable-1_0_672.jpg</td>\n",
       "      <td>no_conflict-2.jpg</td>\n",
       "    </tr>\n",
       "    <tr>\n",
       "      <th>4</th>\n",
       "      <td>improbable-1</td>\n",
       "      <td>improbable-1_0_1008.jpg</td>\n",
       "      <td>conflict-2.jpg</td>\n",
       "    </tr>\n",
       "    <tr>\n",
       "      <th>5</th>\n",
       "      <td>improbable-1</td>\n",
       "      <td>improbable-1_0_1344.jpg</td>\n",
       "      <td>no_conflict-3.jpg</td>\n",
       "    </tr>\n",
       "    <tr>\n",
       "      <th>...</th>\n",
       "      <td>...</td>\n",
       "      <td>...</td>\n",
       "      <td>...</td>\n",
       "    </tr>\n",
       "    <tr>\n",
       "      <th>77</th>\n",
       "      <td>improbable-1</td>\n",
       "      <td>improbable-1_3584_1344.jpg</td>\n",
       "      <td>conflict-37.jpg</td>\n",
       "    </tr>\n",
       "    <tr>\n",
       "      <th>78</th>\n",
       "      <td>improbable-1</td>\n",
       "      <td>improbable-1_3584_1680.jpg</td>\n",
       "      <td>conflict-38.jpg</td>\n",
       "    </tr>\n",
       "    <tr>\n",
       "      <th>79</th>\n",
       "      <td>improbable-1</td>\n",
       "      <td>improbable-1_3584_2016.jpg</td>\n",
       "      <td>conflict-39.jpg</td>\n",
       "    </tr>\n",
       "    <tr>\n",
       "      <th>80</th>\n",
       "      <td>improbable-1</td>\n",
       "      <td>improbable-1_3584_2352.jpg</td>\n",
       "      <td>conflict-40.jpg</td>\n",
       "    </tr>\n",
       "    <tr>\n",
       "      <th>81</th>\n",
       "      <td>improbable-1</td>\n",
       "      <td>improbable-1_3584_2688.jpg</td>\n",
       "      <td>no_conflict-41.jpg</td>\n",
       "    </tr>\n",
       "  </tbody>\n",
       "</table>\n",
       "<p>81 rows × 3 columns</p>\n",
       "</div>"
      ],
      "text/plain": [
       "        original                        tile      classification\n",
       "1   improbable-1        improbable-1_0_0.jpg   no_conflict-1.jpg\n",
       "2   improbable-1      improbable-1_0_336.jpg      conflict-1.jpg\n",
       "3   improbable-1      improbable-1_0_672.jpg   no_conflict-2.jpg\n",
       "4   improbable-1     improbable-1_0_1008.jpg      conflict-2.jpg\n",
       "5   improbable-1     improbable-1_0_1344.jpg   no_conflict-3.jpg\n",
       "..           ...                         ...                 ...\n",
       "77  improbable-1  improbable-1_3584_1344.jpg     conflict-37.jpg\n",
       "78  improbable-1  improbable-1_3584_1680.jpg     conflict-38.jpg\n",
       "79  improbable-1  improbable-1_3584_2016.jpg     conflict-39.jpg\n",
       "80  improbable-1  improbable-1_3584_2352.jpg     conflict-40.jpg\n",
       "81  improbable-1  improbable-1_3584_2688.jpg  no_conflict-41.jpg\n",
       "\n",
       "[81 rows x 3 columns]"
      ]
     },
     "execution_count": 13,
     "metadata": {},
     "output_type": "execute_result"
    }
   ],
   "source": [
    "df"
   ]
  },
  {
   "cell_type": "code",
   "execution_count": null,
   "id": "35e1b4ff-5497-44a4-8030-45948fac0a76",
   "metadata": {},
   "outputs": [],
   "source": []
  }
 ],
 "metadata": {
  "kernelspec": {
   "display_name": "Python 3",
   "language": "python",
   "name": "python3"
  },
  "language_info": {
   "codemirror_mode": {
    "name": "ipython",
    "version": 3
   },
   "file_extension": ".py",
   "mimetype": "text/x-python",
   "name": "python",
   "nbconvert_exporter": "python",
   "pygments_lexer": "ipython3",
   "version": "3.8.3"
  }
 },
 "nbformat": 4,
 "nbformat_minor": 5
}
