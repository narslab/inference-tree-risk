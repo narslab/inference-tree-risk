{
 "cells": [
  {
   "cell_type": "code",
   "execution_count": 90,
   "metadata": {},
   "outputs": [],
   "source": [
    "#!/usr/bin/env python\n",
    "# coding: utf-8\n",
    "\n",
    "# This script explores CNN model performance based on training image resolution.\n",
    "# We test the following training image sizes:\n",
    "# 64 x 64, 128 x 128, 224 x 224, 384 x 384\n",
    "\n",
    "import numpy as np\n",
    "np.seterr(divide='ignore', invalid='ignore')\n",
    "import pandas as pd\n",
    "\n",
    "from timeit import default_timer as timer\n",
    "import random\n",
    "\n",
    "import tensorflow as tf\n",
    "from tensorflow.keras import datasets, layers, models\n",
    "from tensorflow.keras.optimizers import SGD\n",
    "from tensorflow.keras import backend as K\n",
    "from tensorflow.keras.callbacks import Callback\n",
    "import matplotlib.pyplot as plt\n",
    "import seaborn as sns\n",
    "\n",
    "import json\n",
    "import pickle\n",
    "import os\n",
    "import sys\n",
    "sys.path.append(\"../python/\")\n",
    "from helpers import *\n",
    "from sklearn.metrics import classification_report, accuracy_score, f1_score, precision_score, recall_score, confusion_matrix\n",
    "#from sklearn.preprocessing import OrdinalEncoder\n",
    "#enc = OrdinalEncoder()\n",
    "\n",
    "# Globals\n",
    "NUM_CHANNELS = 1\n",
    "RESOLUTION_LIST = [64,128] # 64, 128] #, 224, 384]\n",
    "SCENARIO_LIST = [\"Pr_Im\", \"PrPo_Im\", \"Pr_PoIm\", \"Pr_Po_Im\"]\n",
    "NUM_MODEL_RUNS = 10\n",
    "NUM_EPOCHS = 10\n",
    "SCENARIO_PERFORMANCE_METRICS_DIR = '../../results/models/'"
   ]
  },
  {
   "cell_type": "code",
   "execution_count": 2,
   "metadata": {},
   "outputs": [],
   "source": [
    "image_sets = createResolutionScenarioImageDict(RESOLUTION_LIST, SCENARIO_LIST)\n"
   ]
  },
  {
   "cell_type": "code",
   "execution_count": 61,
   "metadata": {},
   "outputs": [],
   "source": [
    "\n",
    "# def recall(y_true, y_pred):\n",
    "# \ty_true, y_pred = check_units(y_true, y_pred)\n",
    "# \ttrue_positives = K.sum(K.round(K.clip(y_true * y_pred, 0, 1)))\n",
    "# \tpossible_positives = K.sum(K.round(K.clip(y_true, 0, 1)))\n",
    "# \trecall = true_positives / (possible_positives + K.epsilon())\n",
    "# \treturn recall\n",
    "\n",
    "# def f1(y_true, y_pred):\n",
    "# \ty_true, y_pred = check_units(y_true, y_pred)\n",
    "# \tprecision = precision(y_true, y_pred)\n",
    "# \trecall = recall(y_true, y_pred)\n",
    "# \treturn 2*((precision*recall)/(precision+recall+K.epsilon()))\n",
    "\n",
    "# Metrics2 modified from https://stackoverflow.com/a/61856587/3023033\n",
    "class Metrics2(Callback):\n",
    "    def __init__(self, val_data):#, batch_size = 64):\n",
    "        super().__init__()\n",
    "        self.validation_data = val_data\n",
    "        #self.batch_size = batch_size\n",
    "\n",
    "    def on_train_begin(self, logs={}):\n",
    "        #print(self.validation_data)\n",
    "        self.val_f1s = []\n",
    "        self.val_recalls = []\n",
    "        self.val_precisions = []\n",
    "\n",
    "    def on_epoch_end(self, epoch, logs={}):\n",
    "        #batches = len(self.validation_data)\n",
    "        #total = batches * self.batch_size\n",
    "\n",
    "        #val_pred = np.zeros((total,1))\n",
    "        #val_true = np.zeros((total))\n",
    "\n",
    "        xVal, yVal = self.validation_data\n",
    "        val_pred = np.argmax(np.asarray(self.model.predict(xVal)), axis=1)\n",
    "        val_true = np.argmax(yVal, axis=1)        \n",
    "        #val_pred = np.squeeze(val_pred)\n",
    "        _val_f1 = f1_score(val_true, val_pred, average='weighted', zero_division = 0)\n",
    "        _val_precision = precision_score(val_true, val_pred, average='weighted', zero_division = 0)\n",
    "        _val_recall = recall_score(val_true, val_pred, average='weighted', zero_division = 0)\n",
    "\n",
    "        self.val_f1s.append(_val_f1)\n",
    "        self.val_recalls.append(_val_recall)\n",
    "        self.val_precisions.append(_val_precision)\n",
    "        print('— val_f1: %f — val_precision: %f — val_recall %f' %(_val_f1, _val_precision, _val_recall))\n",
    "        return"
   ]
  },
  {
   "cell_type": "code",
   "execution_count": 103,
   "metadata": {},
   "outputs": [],
   "source": [
    "def trainModelWithDetailedMetrics(image_size, scenario, num_epochs = 10, trial_seed = 1): \n",
    "    training_images_and_labels, test_images_and_labels = splitData(image_sets[image_size][scenario], prop = 0.75, seed_num = trial_seed)\n",
    "    training_images, training_labels = getImageAndLabelArrays(training_images_and_labels)\n",
    "    validation_images, validation_labels = getImageAndLabelArrays(test_images_and_labels)\n",
    "    \n",
    "    # CALLBACKS\n",
    "    model_metrics = Metrics2(val_data=(validation_images, validation_labels))\n",
    "    early_stopping = tf.keras.callbacks.EarlyStopping(monitor='loss', patience=5)\n",
    "    # batch_training_histories = Histories()\n",
    "    K.clear_session()\n",
    "\n",
    "    input_shape = (image_size, image_size, NUM_CHANNELS)\n",
    "    model = constructBaseCNN(image_size, scenario, num_channels = NUM_CHANNELS)\n",
    "    opt_learning_rate = getOptCNNHyperparams(image_size, scenario)['learning_rate']\n",
    "    reset_weights(model) # re-initialize model weights\n",
    "    opt = tf.keras.optimizers.Adam(learning_rate = opt_learning_rate)\n",
    "    \n",
    "    model.compile(loss='categorical_crossentropy',  optimizer = opt, metrics =  ['accuracy']) \n",
    "\n",
    "    model_name = \"opt-cnn-\" + scenario + \"-\" +str(image_size) + \"-px\"\n",
    "    model_folder = \"model\"\n",
    "    #model.save(os.path.join(SCENARIO_PERFORMANCE_METRICS_DIR, model_name, model_folder))\n",
    "    filename = \"performance.txt\"\n",
    "\n",
    "    hist = model.fit(training_images, training_labels, batch_size = 64, epochs = num_epochs, verbose=1, \n",
    "                     validation_data=(validation_images, validation_labels),\n",
    "                     callbacks = [model_metrics, early_stopping]) #, callbacks=[batch_training_histories])\n",
    "    class_labels = getClassLabels(scenario)\n",
    "    \n",
    "    \n",
    "    \n",
    "    y_pred = np.argmax(model.predict(validation_images), axis=-1) \n",
    "    report = classification_report(np.argmax(validation_labels, axis=-1), y_pred, zero_division=0,\n",
    "                                   labels = np.arange(len(class_labels)), target_names=class_labels)\n",
    "    print(\"Classification report for scenario \" + scenario + \", resolution: \" + str(image_size) + \":\")\n",
    "    print(report)\n",
    "    con_mat = tf.math.confusion_matrix(labels=np.argmax(validation_labels, axis=-1), predictions=y_pred).numpy()\n",
    "    con_mat_norm = np.around(con_mat.astype('float') / con_mat.sum(axis=1)[:, np.newaxis], decimals=2)\n",
    "\n",
    "    con_mat_df = pd.DataFrame(con_mat, index = class_labels, columns = class_labels)\n",
    "\n",
    "    print(\"Confusion matrix for scenario \" + scenario + \", resolution: \" + str(image_size) + \":\")\n",
    "    print(con_mat_df)\n",
    "    figure = plt.figure()#figsize=(4, 4))\n",
    "    ax = sns.heatmap(con_mat_df, annot=True, cmap=plt.cm.Blues, fmt='g')\n",
    "    plt.tight_layout()\n",
    "    plt.ylabel('True')\n",
    "    ax.set_yticklabels(class_labels, ha='center')\n",
    "    ax.set_xticklabels(class_labels, ha='center')\n",
    "    plt.xlabel('Predicted')\n",
    "    plt.show()\n",
    "    return(hist) #performance_dict)\n",
    "\n"
   ]
  },
  {
   "cell_type": "code",
   "execution_count": 104,
   "metadata": {},
   "outputs": [
    {
     "name": "stdout",
     "output_type": "stream",
     "text": [
      "Epoch 1/2\n",
      "30/30 [==============================] - 12s 367ms/step - loss: 0.9995 - accuracy: 0.8125 - val_loss: 3.3949 - val_accuracy: 0.0079\n",
      "— val_f1: 0.000124 — val_precision: 0.000063 — val_recall 0.007911\n",
      "Epoch 2/2\n",
      "30/30 [==============================] - 10s 340ms/step - loss: 0.5029 - accuracy: 0.9602 - val_loss: 10.9775 - val_accuracy: 0.0079\n",
      "— val_f1: 0.000124 — val_precision: 0.000063 — val_recall 0.007911\n",
      "Classification report for scenario Pr_Po_Im, resolution: 64:\n",
      "              precision    recall  f1-score   support\n",
      "\n",
      "    Probable       0.00      0.00      0.00         0\n",
      "    Possible       0.01      1.00      0.02         5\n",
      "  Improbable       0.00      0.00      0.00       627\n",
      "\n",
      "   micro avg       0.01      0.01      0.01       632\n",
      "   macro avg       0.00      0.33      0.01       632\n",
      "weighted avg       0.00      0.01      0.00       632\n",
      "\n",
      "Confusion matrix for scenario Pr_Po_Im, resolution: 64:\n",
      "            Probable  Possible  Improbable\n",
      "Probable           0         0           0\n",
      "Possible           0         5           0\n",
      "Improbable         0       627           0\n"
     ]
    },
    {
     "data": {
      "image/png": "[encoded data removed]",
      "text/plain": [
       "<Figure size 288x288 with 2 Axes>"
      ]
     },
     "metadata": {
      "needs_background": "light"
     },
     "output_type": "display_data"
    }
   ],
   "source": [
    "h = trainModelWithDetailedMetrics(64, \"Pr_Po_Im\", num_epochs = 2)"
   ]
  },
  {
   "cell_type": "code",
   "execution_count": 24,
   "metadata": {},
   "outputs": [
    {
     "data": {
      "text/plain": [
       "True"
      ]
     },
     "execution_count": 24,
     "metadata": {},
     "output_type": "execute_result"
    }
   ],
   "source": [
    "#tf.executing_eagerly()"
   ]
  },
  {
   "cell_type": "code",
   "execution_count": 94,
   "metadata": {},
   "outputs": [
    {
     "ename": "AttributeError",
     "evalue": "'NoneType' object has no attribute 'history'",
     "output_type": "error",
     "traceback": [
      "\u001b[0;31m---------------------------------------------------------------------------\u001b[0m",
      "\u001b[0;31mAttributeError\u001b[0m                            Traceback (most recent call last)",
      "\u001b[0;32m<ipython-input-94-5d76693002a4>\u001b[0m in \u001b[0;36m<module>\u001b[0;34m\u001b[0m\n\u001b[0;32m----> 1\u001b[0;31m \u001b[0mh\u001b[0m\u001b[0;34m.\u001b[0m\u001b[0mhistory\u001b[0m\u001b[0;34m\u001b[0m\u001b[0;34m\u001b[0m\u001b[0m\n\u001b[0m\u001b[1;32m      2\u001b[0m \u001b[0;31m#pd.DataFrame.from_dict(h.history).plot()\u001b[0m\u001b[0;34m\u001b[0m\u001b[0;34m\u001b[0m\u001b[0;34m\u001b[0m\u001b[0m\n",
      "\u001b[0;31mAttributeError\u001b[0m: 'NoneType' object has no attribute 'history'"
     ]
    }
   ],
   "source": [
    "h.history\n",
    "#pd.DataFrame.from_dict(h.history).plot()"
   ]
  },
  {
   "cell_type": "code",
   "execution_count": null,
   "metadata": {},
   "outputs": [],
   "source": [
    "# y_pred = final.predict(X_test)\n",
    "# y_indx = np.argmax(y_test_new, axis = 1)\n",
    "# pred_indx = np.argmax(y_pred, axis = 1)\n",
    "# print(classification_report(y_indx, pred_indx))\n",
    "\n",
    "# def main(num_trials = NUM_MODEL_RUNS):\n",
    "#     if not os.path.exists(RESOLUTION_PERFORMANCE_METRICS_DIR): # check if 'tidy/preprocessed_images' subdirectory does not exist\n",
    "#         os.makedirs(RESOLUTION_PERFORMANCE_METRICS_DIR) # if not, create it    \n",
    "#     for s in SCENARIO_LIST:\n",
    "#         for p in RESOLUTION_LIST:\n",
    "#             for i in range(num_trials):\n",
    "#                 print(\"Conducting performance test: Scenario - \" + s + \"; Resolution - \" + str(p) + \"px; Trial - \" + str(i+1))\n",
    "#                 scenario_performance_dict = testResolutionScenarioPerformance(p, s, num_epochs = NUM_EPOCHS, trial_seed = 1 + i) #ultimately should be averaged across trials       \n",
    "#                 scenario_filename = \"scenario_resolution_performance_\" + s + str(p) + \"px_trial_\" + str(i+1) + \".txt\"\n",
    "#                 with open(os.path.join(RESOLUTION_PERFORMANCE_METRICS_DIR, scenario_filename), 'w') as f:\n",
    "#                    f.write(json.dumps(scenario_performance_dict )) # use `json.loads` to do the reverse)\n",
    "#     return\n",
    "\n",
    "\n",
    "# if __name__ == \"__main__\":\n",
    "#     main()\n",
    "\n",
    "\n",
    "# predictions = model.predict_classes(x_val)\n",
    "# predictions = predictions.reshape(1,-1)[0]\n",
    "\n",
    "# print(classification_report(y_val, predictions, target_names = ['Rugby (Class 0)','Soccer (Class 1)']))v"
   ]
  },
  {
   "cell_type": "code",
   "execution_count": null,
   "metadata": {},
   "outputs": [],
   "source": [
    "    \n",
    "#     metrics = [\n",
    "#     tfma.metrics.ExampleCount(name='example_count'),\n",
    "#     tfma.metrics.WeightedExampleCount(name='weighted_example_count'),\n",
    "#     tf.keras.metrics.SparseCategoricalCrossentropy(\n",
    "#         name='sparse_categorical_crossentropy'),\n",
    "#     tf.keras.metrics.SparseCategoricalAccuracy(name='accuracy'),\n",
    "#     tf.keras.metrics.Precision(name='precision', top_k=1),\n",
    "#     #tf.keras.metrics.Precision(name='precision', top_k=3),\n",
    "#     tf.keras.metrics.Recall(name='recall', top_k=1),\n",
    "#     #tf.keras.metrics.Recall(name='recall', top_k=3),\n",
    "#     tfma.metrics.MultiClassConfusionMatrixPlot(\n",
    "#         name='multi_class_confusion_matrix_plot'),]\n",
    "#     metrics_specs = tfma.metrics.specs_from_metrics(metrics)\n",
    "#     metrics_specs = tfma.metrics.specs_from_metrics(metrics,\n",
    "#         aggregate=tfma.AggregationOptions(\n",
    "#             macro_average=True, class_weights={i: 1.0 for i in range(3)}))\n",
    "\n",
    "\n",
    "    # performance_dict = {}    \n",
    "    # performance_dict['scenario'] = scenario\n",
    "    # performance_dict['image_size'] = image_size\n",
    "    # performance_dict['metrics'] = hist.history\n",
    "    # performance_dict['best_val_accuracy'] = np.max(hist.history['val_accuracy'])\n"
   ]
  }
 ],
 "metadata": {
  "kernelspec": {
   "display_name": "Python 3",
   "language": "python",
   "name": "python3"
  },
  "language_info": {
   "codemirror_mode": {
    "name": "ipython",
    "version": 3
   },
   "file_extension": ".py",
   "mimetype": "text/x-python",
   "name": "python",
   "nbconvert_exporter": "python",
   "pygments_lexer": "ipython3",
   "version": "3.9.1"
  }
 },
 "nbformat": 4,
 "nbformat_minor": 4
}
