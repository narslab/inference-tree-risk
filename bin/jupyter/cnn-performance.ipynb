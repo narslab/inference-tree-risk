{
 "cells": [
  {
   "cell_type": "code",
   "execution_count": 101,
   "metadata": {},
   "outputs": [],
   "source": [
    "#!/usr/bin/env python\n",
    "# coding: utf-8\n",
    "\n",
    "# This script explores CNN model performance based on training image resolution.\n",
    "# We test the following training image sizes:\n",
    "# 64 x 64, 128 x 128, 224 x 224, 384 x 384\n",
    "\n",
    "import numpy as np\n",
    "np.seterr(divide='ignore', invalid='ignore')\n",
    "import pandas as pd\n",
    "\n",
    "from timeit import default_timer as timer\n",
    "import random\n",
    "\n",
    "import tensorflow as tf\n",
    "from tensorflow.keras import datasets, layers, models\n",
    "from tensorflow.keras.optimizers import SGD\n",
    "from tensorflow.keras import backend as K\n",
    "from tensorflow.keras.callbacks import Callback\n",
    "import matplotlib.pyplot as plt\n",
    "import seaborn as sns\n",
    "\n",
    "from matplotlib import cm\n",
    "from tf_keras_vis.gradcam import Gradcam\n",
    "from tf_keras_vis.utils import normalize\n",
    "\n",
    "import json\n",
    "import pickle\n",
    "import os\n",
    "import sys\n",
    "sys.path.append(\"../python/\")\n",
    "from helpers import *\n",
    "from sklearn.metrics import classification_report, accuracy_score, f1_score, precision_score, recall_score, confusion_matrix\n",
    "from sklearn.model_selection import train_test_split, StratifiedShuffleSplit\n",
    "#from sklearn.preprocessing import OrdinalEncoder\n",
    "#enc = OrdinalEncoder()\n",
    "\n",
    "# Globals\n",
    "NUM_CHANNELS = 1\n",
    "RESOLUTION_LIST = [64,128] # 64, 128] #, 224, 384]\n",
    "SCENARIO_LIST = [\"Pr_Im\", \"PrPo_Im\", \"Pr_PoIm\", \"Pr_Po_Im\"]\n",
    "NUM_MODEL_RUNS = 10\n",
    "NUM_EPOCHS = 10\n",
    "SCENARIO_PERFORMANCE_METRICS_DIR = '../../results/models/'"
   ]
  },
  {
   "cell_type": "code",
   "execution_count": 6,
   "metadata": {},
   "outputs": [],
   "source": [
    "image_sets = createResolutionScenarioImageDict(RESOLUTION_LIST, SCENARIO_LIST)\n"
   ]
  },
  {
   "cell_type": "code",
   "execution_count": 75,
   "metadata": {},
   "outputs": [],
   "source": [
    "# https://github.com/keisen/tf-keras-vis/blob/master/examples/attentions.ipynb\n",
    "\n",
    "# Metrics2 modified from https://stackoverflow.com/a/61856587/3023033\n",
    "class Metrics2(Callback):\n",
    "    def __init__(self, val_data):#, batch_size = 64):\n",
    "        super().__init__()\n",
    "        self.validation_data = val_data\n",
    "        #self.batch_size = batch_size\n",
    "\n",
    "    def on_train_begin(self, logs={}):\n",
    "        #print(self.validation_data)\n",
    "        self.val_f1s = []\n",
    "        self.val_recalls = []\n",
    "        self.val_precisions = []\n",
    "\n",
    "    def on_epoch_end(self, epoch, logs={}):\n",
    "        #batches = len(self.validation_data)\n",
    "        #total = batches * self.batch_size\n",
    "\n",
    "        #val_pred = np.zeros((total,1))\n",
    "        #val_true = np.zeros((total))\n",
    "\n",
    "        xVal, yVal = self.validation_data\n",
    "        val_pred = np.argmax(np.asarray(self.model.predict(xVal)), axis=1)\n",
    "        val_true = np.argmax(yVal, axis=1)        \n",
    "        #val_pred = np.squeeze(val_pred)\n",
    "        _val_f1 = f1_score(val_true, val_pred, average='weighted', zero_division = 0)\n",
    "        _val_precision = precision_score(val_true, val_pred, average='weighted', zero_division = 0)\n",
    "        _val_recall = recall_score(val_true, val_pred, average='weighted', zero_division = 0)\n",
    "\n",
    "        self.val_f1s.append(_val_f1)\n",
    "        self.val_recalls.append(_val_recall)\n",
    "        self.val_precisions.append(_val_precision)\n",
    "        logs[\"val_f1\"] = _val_f1\n",
    "        logs[\"val_recall\"] = _val_recall\n",
    "        logs[\"val_precision\"] = _val_precision\n",
    "        print('— val_f1: %f — val_precision: %f — val_recall %f' %(_val_f1, _val_precision, _val_recall))\n",
    "        return"
   ]
  },
  {
   "cell_type": "code",
   "execution_count": 137,
   "metadata": {},
   "outputs": [],
   "source": [
    "#sss = StratifiedShuffleSplit(n_splits = 2, test_size = 0.2, random_state = 1)\n",
    "#trimg, vaimg =\n",
    "trimg,vaimg,trlab,valab =  train_test_split(np.array([np.expand_dims(x[0],axis=2) for x in image_sets[64][\"Pr_Im\"]]), \n",
    "                 np.array([x[1] for x in image_sets[64][\"Pr_Im\"]]), stratify= np.array([x[1] for x in image_sets[64][\"Pr_Im\"]]), test_size=.2, random_state = 1  )\n",
    "#trainil, testil = StratifiedShuffleSplit(image_sets[64][\"Pr_Po_Im\"], test_size = 0.2, random_state = 1)\n",
    "#trimg, trlab = getImageAndLabelArrays(trainil)\n",
    "#vaimg, valab = getImageAndLabelArrays(testil)"
   ]
  },
  {
   "cell_type": "code",
   "execution_count": 135,
   "metadata": {},
   "outputs": [
    {
     "data": {
      "text/plain": [
       "array([   0,   23, 1997])"
      ]
     },
     "execution_count": 135,
     "metadata": {},
     "output_type": "execute_result"
    }
   ],
   "source": [
    "trlab.sum(axis=0)"
   ]
  },
  {
   "cell_type": "code",
   "execution_count": 129,
   "metadata": {},
   "outputs": [
    {
     "data": {
      "text/plain": [
       "[]"
      ]
     },
     "execution_count": 129,
     "metadata": {},
     "output_type": "execute_result"
    }
   ],
   "source": [
    "[i for i, j in enumerate(valab) if np.argmax(j) == 0]\n",
    "#image_sets[64][\"Pr_Po_Im\"][0]"
   ]
  },
  {
   "cell_type": "code",
   "execution_count": 140,
   "metadata": {},
   "outputs": [],
   "source": [
    "# grad cam and saliency can be done outside trainModelWithDetailedMetrics()...\n",
    "\n",
    "def trainModelWithDetailedMetrics(image_size, scenario, num_epochs = 10, trial_seed = 1): \n",
    "    \n",
    "    # IMAGES\n",
    "    training_images_and_labels, test_images_and_labels = splitData(image_sets[image_size][scenario], prop = 0.7, seed_num = trial_seed)\n",
    "    training_images, training_labels = getImageAndLabelArrays(training_images_and_labels)\n",
    "    validation_images, validation_labels = getImageAndLabelArrays(test_images_and_labels)\n",
    "    \n",
    "    # CALLBACKS\n",
    "    model_metrics = Metrics2(val_data=(validation_images, validation_labels))\n",
    "    early_stopping = tf.keras.callbacks.EarlyStopping(monitor='loss', patience=5)\n",
    "    # batch_training_histories = Histories()\n",
    "    \n",
    "    # INIT MODEL AND PARAMS\n",
    "    K.clear_session()\n",
    "    ## shape of images\n",
    "    input_shape = (image_size, image_size, NUM_CHANNELS)\n",
    "    ## learning rate\n",
    "    opt_learning_rate = getOptCNNHyperparams(image_size, scenario)['learning_rate']\n",
    "    opt = tf.keras.optimizers.Adam(learning_rate = opt_learning_rate)\n",
    "    ## get model\n",
    "    model = constructBaseCNN(image_size, scenario, num_channels = NUM_CHANNELS)\n",
    "    reset_weights(model) # re-initialize model weights\n",
    "    \n",
    "    model.compile(loss='categorical_crossentropy',  optimizer = opt, metrics =  ['accuracy']) \n",
    "\n",
    "    hist = model.fit(training_images, training_labels, batch_size = 32, epochs = num_epochs, verbose=1, \n",
    "                     validation_data=(validation_images, validation_labels),\n",
    "                     callbacks = [model_metrics, early_stopping]) #, callbacks=[batch_training_histories])\n",
    "    \n",
    "    \n",
    "    # SAVE MODEL \n",
    "    model_name = \"opt-cnn-\" + scenario + \"-\" +str(image_size) + \"-px\"\n",
    "    model_folder = \"model\"\n",
    "    model.save(os.path.join(SCENARIO_PERFORMANCE_METRICS_DIR, model_name, model_folder))\n",
    "    filename = \"performance.txt\"    \n",
    "    \n",
    "    class_labels = getClassLabels(scenario)\n",
    "  \n",
    "    # GRAD CAM\n",
    "    images_per_class = 1\n",
    "    random_image_selection_class_0 = random.choices([i for i, j in enumerate(validation_labels) if np.argmax(j) == 0], k = images_per_class)    \n",
    "    random_image_selection_class_1 = random.choices([i for i, j in enumerate(validation_labels) if np.argmax(j) == 1], k = images_per_class)\n",
    "    cam_list = [random_image_selection_class_0, random_image_selection_class_1]\n",
    "    if scenario==\"Pr_Po_Im\":\n",
    "        random_image_selection_class_2 = random.choices([i for i, j in enumerate(validation_labels) if np.argmax(j) == 2], k = images_per_class)    \n",
    "        cam_list = cam_list.append(random_image_selection_class_2)\n",
    "\n",
    "    def loss(output):\n",
    "        \"\"\"Returns score corresponding to class of given image index\"\"\"\n",
    "        if scenario==\"Pr_Po_Im\":\n",
    "            loss_tuple = (output[random_image_selection_class_0][0], output[random_image_selection_class_1][1], output[random_image_selection_class_2][2])\n",
    "        else:\n",
    "            loss_tuple = (output[random_image_selection_class_0][0], output[random_image_selection_class_1][1])\n",
    "        return \n",
    "    \n",
    "    def model_modifier(m):\n",
    "        \"\"\"Remove softmax activation of last layer in model\"\"\"\n",
    "        m.layers[-1].activation = tf.keras.activations.linear\n",
    "        return m\n",
    "\n",
    "    # Create Gradcam object\n",
    "    gradcam = Gradcam(model, model_modifier = model_modifier) #clone=False)\n",
    "\n",
    "    # Generate heatmap with GradCAM\n",
    "    subplot_args = { 'nrows': 1, 'ncols': 2, 'figsize': (6, 3), 'subplot_kw': {'xticks': [], 'yticks': []} }\n",
    "    \n",
    "    cam = gradcam(loss, validation_images[cam_list],\n",
    "                  penultimate_layer=-1, # model.layers number\n",
    "                 )\n",
    "    cam = normalize(cam)\n",
    "    \n",
    "    image_titles = class_labels\n",
    "    f, ax = plt.subplots(**subplot_args)\n",
    "    for i, title in enumerate(image_titles):\n",
    "        heatmap = np.uint8(cm.jet(cam[i])[..., :3] * 255)\n",
    "        ax[i].set_title(title, fontsize=14)\n",
    "        ax[i].imshow(validation_images[i])\n",
    "        ax[i].imshow(heatmap, cmap='jet', alpha=0.5) # overlay\n",
    "    plt.tight_layout()\n",
    "    plt.show()\n",
    "    \n",
    "    # ANALYZE PERFORMANCE AND SAVE OUTPUTS\n",
    "    ## Params\n",
    "    y_pred = np.argmax(model.predict(validation_images), axis=-1) \n",
    "    ## Classification report\n",
    "    report = classification_report(np.argmax(validation_labels, axis=-1), y_pred, zero_division=0,\n",
    "                                   labels = np.arange(len(class_labels)), target_names=class_labels)\n",
    "    print(\"Classification report for scenario \" + scenario + \", resolution: \" + str(image_size) + \":\")\n",
    "    print(report)\n",
    "    ## Confusion matrix\n",
    "    con_mat = tf.math.confusion_matrix(labels=np.argmax(validation_labels, axis=-1), predictions=y_pred).numpy()\n",
    "    con_mat_norm = np.around(con_mat.astype('float') / con_mat.sum(axis=1)[:, np.newaxis], decimals=2)\n",
    "    con_mat_df = pd.DataFrame(con_mat, index = class_labels, columns = class_labels)\n",
    "    print(\"Confusion matrix for scenario \" + scenario + \", resolution: \" + str(image_size) + \":\")\n",
    "    print(con_mat_df)\n",
    "    ## Confusion matrix heatmap\n",
    "    figure = plt.figure()#figsize=(4, 4))\n",
    "    ax = sns.heatmap(con_mat_df, annot=True, cmap=plt.cm.Blues, fmt='g')\n",
    "    plt.tight_layout()\n",
    "    plt.ylabel('True')\n",
    "    ax.set_yticklabels(class_labels, ha='center')\n",
    "    ax.set_xticklabels(class_labels, ha='center')\n",
    "    plt.xlabel('Predicted')\n",
    "    plt.show()\n",
    "    return(hist) #performance_dict)\n",
    "\n"
   ]
  },
  {
   "cell_type": "code",
   "execution_count": 141,
   "metadata": {},
   "outputs": [
    {
     "name": "stdout",
     "output_type": "stream",
     "text": [
      "47/47 [==============================] - 11s 217ms/step - loss: 0.5259 - accuracy: 0.7442 - val_loss: 0.6913 - val_accuracy: 0.5219\n",
      "— val_f1: 0.531962 — val_precision: 0.713741 — val_recall 0.521944\n",
      "INFO:tensorflow:Assets written to: ../../results/models/opt-cnn-Pr_Im-64-px/model/assets\n"
     ]
    },
    {
     "name": "stderr",
     "output_type": "stream",
     "text": [
      "<ipython-input-140-056514b5a617>:69: FutureWarning: Using a non-tuple sequence for multidimensional indexing is deprecated; use `arr[tuple(seq)]` instead of `arr[seq]`. In the future this will be interpreted as an array index, `arr[np.array(seq)]`, which will result either in an error or a different result.\n",
      "  cam = gradcam(loss, validation_images[cam_list],\n"
     ]
    },
    {
     "ename": "IndexError",
     "evalue": "index 291 is out of bounds for axis 1 with size 64",
     "output_type": "error",
     "traceback": [
      "\u001b[0;31m---------------------------------------------------------------------------\u001b[0m",
      "\u001b[0;31mIndexError\u001b[0m                                Traceback (most recent call last)",
      "\u001b[0;32m<ipython-input-141-3b81a7533613>\u001b[0m in \u001b[0;36m<module>\u001b[0;34m\u001b[0m\n\u001b[0;32m----> 1\u001b[0;31m \u001b[0mh\u001b[0m \u001b[0;34m=\u001b[0m \u001b[0mtrainModelWithDetailedMetrics\u001b[0m\u001b[0;34m(\u001b[0m\u001b[0;36m64\u001b[0m\u001b[0;34m,\u001b[0m \u001b[0;34m\"Pr_Im\"\u001b[0m\u001b[0;34m,\u001b[0m \u001b[0mnum_epochs\u001b[0m \u001b[0;34m=\u001b[0m \u001b[0;36m1\u001b[0m\u001b[0;34m)\u001b[0m\u001b[0;34m\u001b[0m\u001b[0;34m\u001b[0m\u001b[0m\n\u001b[0m",
      "\u001b[0;32m<ipython-input-140-056514b5a617>\u001b[0m in \u001b[0;36mtrainModelWithDetailedMetrics\u001b[0;34m(image_size, scenario, num_epochs, trial_seed)\u001b[0m\n\u001b[1;32m     67\u001b[0m     \u001b[0msubplot_args\u001b[0m \u001b[0;34m=\u001b[0m \u001b[0;34m{\u001b[0m \u001b[0;34m'nrows'\u001b[0m\u001b[0;34m:\u001b[0m \u001b[0;36m1\u001b[0m\u001b[0;34m,\u001b[0m \u001b[0;34m'ncols'\u001b[0m\u001b[0;34m:\u001b[0m \u001b[0;36m2\u001b[0m\u001b[0;34m,\u001b[0m \u001b[0;34m'figsize'\u001b[0m\u001b[0;34m:\u001b[0m \u001b[0;34m(\u001b[0m\u001b[0;36m6\u001b[0m\u001b[0;34m,\u001b[0m \u001b[0;36m3\u001b[0m\u001b[0;34m)\u001b[0m\u001b[0;34m,\u001b[0m \u001b[0;34m'subplot_kw'\u001b[0m\u001b[0;34m:\u001b[0m \u001b[0;34m{\u001b[0m\u001b[0;34m'xticks'\u001b[0m\u001b[0;34m:\u001b[0m \u001b[0;34m[\u001b[0m\u001b[0;34m]\u001b[0m\u001b[0;34m,\u001b[0m \u001b[0;34m'yticks'\u001b[0m\u001b[0;34m:\u001b[0m \u001b[0;34m[\u001b[0m\u001b[0;34m]\u001b[0m\u001b[0;34m}\u001b[0m \u001b[0;34m}\u001b[0m\u001b[0;34m\u001b[0m\u001b[0;34m\u001b[0m\u001b[0m\n\u001b[1;32m     68\u001b[0m \u001b[0;34m\u001b[0m\u001b[0m\n\u001b[0;32m---> 69\u001b[0;31m     cam = gradcam(loss, validation_images[cam_list],\n\u001b[0m\u001b[1;32m     70\u001b[0m                   \u001b[0mpenultimate_layer\u001b[0m\u001b[0;34m=\u001b[0m\u001b[0;34m-\u001b[0m\u001b[0;36m1\u001b[0m\u001b[0;34m,\u001b[0m \u001b[0;31m# model.layers number\u001b[0m\u001b[0;34m\u001b[0m\u001b[0;34m\u001b[0m\u001b[0m\n\u001b[1;32m     71\u001b[0m                  )\n",
      "\u001b[0;31mIndexError\u001b[0m: index 291 is out of bounds for axis 1 with size 64"
     ]
    }
   ],
   "source": [
    "h = trainModelWithDetailedMetrics(64, \"Pr_Im\", num_epochs = 1)"
   ]
  },
  {
   "cell_type": "code",
   "execution_count": 47,
   "metadata": {},
   "outputs": [
    {
     "data": {
      "text/plain": [
       "{'loss': [0.8357298374176025, 0.3868526220321655],\n",
       " 'accuracy': [0.8455008268356323, 0.9298245906829834],\n",
       " 'val_loss': [1.626982569694519, 0.9930952191352844],\n",
       " 'val_accuracy': [0.018469657748937607, 0.7150395512580872],\n",
       " 'val_f1': [0.001408316870190884, 0.8172705083816866],\n",
       " 'val_recall': [0.018469656992084433, 0.7150395778364116],\n",
       " 'val_precision': [0.0007372863933577273, 0.9755177808391902]}"
      ]
     },
     "execution_count": 47,
     "metadata": {},
     "output_type": "execute_result"
    }
   ],
   "source": [
    "h.history"
   ]
  },
  {
   "cell_type": "code",
   "execution_count": 48,
   "metadata": {},
   "outputs": [
    {
     "data": {
      "text/plain": [
       "<AxesSubplot:>"
      ]
     },
     "execution_count": 48,
     "metadata": {},
     "output_type": "execute_result"
    },
    {
     "data": {
      "image/png": "[encoded data removed]",
      "text/plain": [
       "<Figure size 432x288 with 1 Axes>"
      ]
     },
     "metadata": {
      "needs_background": "light"
     },
     "output_type": "display_data"
    }
   ],
   "source": [
    "#h.history\n",
    "#h.history\n",
    "pd.DataFrame.from_dict(h.history).plot()"
   ]
  },
  {
   "cell_type": "code",
   "execution_count": null,
   "metadata": {},
   "outputs": [],
   "source": [
    "# y_pred = final.predict(X_test)\n",
    "# y_indx = np.argmax(y_test_new, axis = 1)\n",
    "# pred_indx = np.argmax(y_pred, axis = 1)\n",
    "# print(classification_report(y_indx, pred_indx))\n",
    "\n",
    "# def main(num_trials = NUM_MODEL_RUNS):\n",
    "#     if not os.path.exists(RESOLUTION_PERFORMANCE_METRICS_DIR): # check if 'tidy/preprocessed_images' subdirectory does not exist\n",
    "#         os.makedirs(RESOLUTION_PERFORMANCE_METRICS_DIR) # if not, create it    \n",
    "#     for s in SCENARIO_LIST:\n",
    "#         for p in RESOLUTION_LIST:\n",
    "#             for i in range(num_trials):\n",
    "#                 print(\"Conducting performance test: Scenario - \" + s + \"; Resolution - \" + str(p) + \"px; Trial - \" + str(i+1))\n",
    "#                 scenario_performance_dict = testResolutionScenarioPerformance(p, s, num_epochs = NUM_EPOCHS, trial_seed = 1 + i) #ultimately should be averaged across trials       \n",
    "#                 scenario_filename = \"scenario_resolution_performance_\" + s + str(p) + \"px_trial_\" + str(i+1) + \".txt\"\n",
    "#                 with open(os.path.join(RESOLUTION_PERFORMANCE_METRICS_DIR, scenario_filename), 'w') as f:\n",
    "#                    f.write(json.dumps(scenario_performance_dict )) # use `json.loads` to do the reverse)\n",
    "#     return\n",
    "\n",
    "\n",
    "# if __name__ == \"__main__\":\n",
    "#     main()\n",
    "\n",
    "\n",
    "# predictions = model.predict_classes(x_val)\n",
    "# predictions = predictions.reshape(1,-1)[0]\n",
    "\n",
    "# print(classification_report(y_val, predictions, target_names = ['Rugby (Class 0)','Soccer (Class 1)']))v"
   ]
  },
  {
   "cell_type": "code",
   "execution_count": null,
   "metadata": {},
   "outputs": [],
   "source": [
    "    \n",
    "#     metrics = [\n",
    "#     tfma.metrics.ExampleCount(name='example_count'),\n",
    "#     tfma.metrics.WeightedExampleCount(name='weighted_example_count'),\n",
    "#     tf.keras.metrics.SparseCategoricalCrossentropy(\n",
    "#         name='sparse_categorical_crossentropy'),\n",
    "#     tf.keras.metrics.SparseCategoricalAccuracy(name='accuracy'),\n",
    "#     tf.keras.metrics.Precision(name='precision', top_k=1),\n",
    "#     #tf.keras.metrics.Precision(name='precision', top_k=3),\n",
    "#     tf.keras.metrics.Recall(name='recall', top_k=1),\n",
    "#     #tf.keras.metrics.Recall(name='recall', top_k=3),\n",
    "#     tfma.metrics.MultiClassConfusionMatrixPlot(\n",
    "#         name='multi_class_confusion_matrix_plot'),]\n",
    "#     metrics_specs = tfma.metrics.specs_from_metrics(metrics)\n",
    "#     metrics_specs = tfma.metrics.specs_from_metrics(metrics,\n",
    "#         aggregate=tfma.AggregationOptions(\n",
    "#             macro_average=True, class_weights={i: 1.0 for i in range(3)}))\n",
    "\n",
    "\n",
    "    # performance_dict = {}    \n",
    "    # performance_dict['scenario'] = scenario\n",
    "    # performance_dict['image_size'] = image_size\n",
    "    # performance_dict['metrics'] = hist.history\n",
    "    # performance_dict['best_val_accuracy'] = np.max(hist.history['val_accuracy'])\n"
   ]
  }
 ],
 "metadata": {
  "kernelspec": {
   "display_name": "Python 3",
   "language": "python",
   "name": "python3"
  },
  "language_info": {
   "codemirror_mode": {
    "name": "ipython",
    "version": 3
   },
   "file_extension": ".py",
   "mimetype": "text/x-python",
   "name": "python",
   "nbconvert_exporter": "python",
   "pygments_lexer": "ipython3",
   "version": "3.9.1"
  }
 },
 "nbformat": 4,
 "nbformat_minor": 4
}
