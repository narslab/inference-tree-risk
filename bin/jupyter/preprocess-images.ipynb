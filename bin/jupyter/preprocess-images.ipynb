{
 "cells": [
  {
   "cell_type": "code",
   "execution_count": 7,
   "metadata": {},
   "outputs": [],
   "source": [
    "\"\"\"\n",
    "The purpose of this script is to pre-process the tree images using the following approaches:\n",
    "    - one-hot vector encoding\n",
    "    - resizing\n",
    "    - grayscaling \n",
    "    - normalization (scaling pixels from 0 to 1)\n",
    "    - random cropping (based on specified expansion factor to multiply images)\n",
    "    - horizontal flipping\n",
    "\"\"\"\n",
    "\n",
    "from PIL import Image # used for loading images\n",
    "import numpy as np\n",
    "import os # used for navigating to image path\n",
    "import imageio # used for writing images\n",
    "import random\n",
    "import matplotlib.pyplot as plt\n",
    "#from timeit import default_timer as timer\n"
   ]
  },
  {
   "cell_type": "code",
   "execution_count": 8,
   "metadata": {},
   "outputs": [],
   "source": [
    "## GLOBAL VARIABLES\n",
    "IMG_SIZE = 108\n",
    "IMG_SIZE_LIST = [64, 128, 224, 384]\n",
    "NUM_CHANNELS = 1\n",
    "CLASSIFICATION_SCENARIO = \"Pr_Im\"\n",
    "CLASSIFICATION_SCENARIO_LIST = [\"Pr_Po_Im\", \"Pr_Im\", \"PrPo_Im\", \"Pr_PoIm\"]  \n",
    "EXPANSION_FACTOR = 5 # of augmented images\n",
    "LABELED_IMAGES_DIR = '../../data/tidy/labeled_images'\n",
    "PROCESSED_IMAGES_DIR = '../../data/tidy/preprocessed_images'\n",
    "SEED = 10 # seed for repeatability"
   ]
  },
  {
   "cell_type": "code",
   "execution_count": 9,
   "metadata": {},
   "outputs": [],
   "source": [
    "def getImageOneHotVector(image_file_name, classification_scenario = \"Pr_Im\"):\n",
    "    \"\"\"Returns one-hot vector encoding for each image based on specified classification scenario:\n",
    "    Classification Scenario Pr_Po_Im (3 classes): {probable, possible, improbable}\n",
    "    Classification Scenario Pr_Im (2 classes): {probable, improbable}\n",
    "    Classification Scenario PrPo_Im (2 classes): {{probable, possible}, improbable}\n",
    "    Classification Scenario Pr_PoIm (2 classes): {probable, {possible, improbable}}\n",
    "    \"\"\"\n",
    "    word_label = image_file_name.split('-')[0]\n",
    "    if classification_scenario == \"Pr_Po_Im\":\n",
    "        if word_label == 'probable' : \n",
    "            return np.array([1, 0, 0])\n",
    "        elif word_label == 'possible' : \n",
    "            return np.array([0, 1, 0])    \n",
    "        elif word_label == 'improbable':\n",
    "            return np.array([0, 0, 1])\n",
    "        else :\n",
    "            return np.array([0, 0, 0]) # if label is not present for current image\n",
    "    elif classification_scenario == \"Pr_Im\":\n",
    "        if word_label == 'probable' : \n",
    "            return np.array([1, 0])\n",
    "        elif word_label == 'improbable' : \n",
    "            return np.array([0, 1])\n",
    "        else :\n",
    "            return np.array([0, 0]) # if label is not present for current image\n",
    "    elif classification_scenario == \"PrPo_Im\":\n",
    "        if word_label in ['probable', 'possible'] : \n",
    "            return np.array([1, 0])\n",
    "        elif word_label == 'improbable' : \n",
    "            return np.array([0, 1])\n",
    "        else :\n",
    "            return np.array([0, 0]) # if label is not present for current image        \n",
    "    elif classification_scenario == \"Pr_PoIm\":\n",
    "        if word_label == 'probable' : \n",
    "            return np.array([1, 0])\n",
    "        elif word_label in ['possible', 'improbable'] : \n",
    "            return np.array([0, 1])\n",
    "        else :\n",
    "            return np.array([0, 0]) # if label is not present for current image        "
   ]
  },
  {
   "cell_type": "code",
   "execution_count": 10,
   "metadata": {},
   "outputs": [],
   "source": [
    "def processImageData(img_size, expansion_factor, class_scenario, seed_value, channels=1): # original size 4032 Ãƒâ€” 3024 px\n",
    "    data = []\n",
    "    image_list = os.listdir(LABELED_IMAGES_DIR)\n",
    "    random.seed(seed_value) #seed for repeatability\n",
    "    for img in image_list:\n",
    "        label = getImageOneHotVector(img, class_scenario)\n",
    "        if label.sum() == 0: # if image unlabeled, move to next one\n",
    "            continue\n",
    "        path = os.path.join(LABELED_IMAGES_DIR, img)\n",
    "        img = Image.open(path) # read in image\n",
    "        if channels == 1:\n",
    "            img = img.convert('L') # convert image to monochrome \n",
    "            for i in range(expansion_factor):\n",
    "                value = random.random()\n",
    "                crop_value = int(value*(4032 - 3024))\n",
    "                # crop image to 3024 x 3024 (original size: 4032 x 3024 (portrait) or 3024 x 4032 (lscape))\n",
    "                if np.array(img).shape[0] == 3024: # if landscape mode (tree oriented sideways)\n",
    "                    cropped_img = img.crop((crop_value, 0, crop_value + 3024, 3024))                     \n",
    "                else: # if portrait mode\n",
    "                    cropped_img = img.crop((0, crop_value, 3024, crop_value + 3024))\n",
    "                cropped_img = cropped_img.resize((img_size, img_size), Image.BICUBIC) # resize image\n",
    "                cropped_img_array = np.array(cropped_img)/255. # convert to array and scale to 0-1                \n",
    "                if np.array(img).shape[0] == 3024: # if original image is landscape  \n",
    "                    cropped_img_array = cropped_img_array.T # transpose cropped/resized version\n",
    "                if value <= 0.5: # flip horizontally with 50% probability\n",
    "                    cropped_img_array = np.fliplr(cropped_img_array)  \n",
    "                data.append([cropped_img_array, label])\n",
    "        elif channels == 3:\n",
    "            pass\n",
    "            #TODO: cropping here needs to be updated\n",
    "            #img = img.crop((left=400, top=0, r=3424, b=3024)) \n",
    "            #img = img.resize((img_size, img_size), Image.BICUBIC)\n",
    "            #TODO: random cropping, flipping and resizing\n",
    "    data_filename = 'size' + str(img_size) + \"_exp\" + str(expansion_factor) + \"_\" + class_scenario + \".npy\"\n",
    "    if not os.path.exists(PROCESSED_IMAGES_DIR): # check if 'tidy/preprocessed_images' subdirectory does not exist\n",
    "        os.makedirs(PROCESSED_IMAGES_DIR) # if not, create it    \n",
    "    np.save(os.path.join(PROCESSED_IMAGES_DIR, data_filename), data) #save as .npy (binary) file\n",
    "    print(\"Saved \" + data_filename + \" to data/tidy/\" + PROCESSED_IMAGES_DIR)\n",
    "    return (data)"
   ]
  },
  {
   "cell_type": "code",
   "execution_count": 65,
   "metadata": {},
   "outputs": [],
   "source": [
    "#plt.imshow(test[0][0],cmap = 'gist_gray') #TODO: plot images\n",
    "# TODO (plot random sample of the augmented images in a grid)\n",
    "# w=10\n",
    "# h=10\n",
    "# fig=plt.figure(figsize=(8, 8))\n",
    "# columns = 4\n",
    "# rows = 5\n",
    "# for i in range(1, columns*rows +1):\n",
    "#     img = np.random.randint(10, size=(h,w))\n",
    "#     fig.add_subplot(rows, columns, i)\n",
    "#     plt.imshow(img)\n",
    "# plt.show()"
   ]
  },
  {
   "cell_type": "code",
   "execution_count": 11,
   "metadata": {},
   "outputs": [],
   "source": [
    "def main():\n",
    "    for scenario in CLASSIFICATION_SCENARIO_LIST:\n",
    "        for image_size in IMG_SIZE_LIST:\n",
    "            processImageData(image_size, EXPANSION_FACTOR, scenario, seed_value=SEED, channels=NUM_CHANNELS)\n",
    "    return"
   ]
  },
  {
   "cell_type": "code",
   "execution_count": 12,
   "metadata": {},
   "outputs": [],
   "source": [
    "if __name__ == \"__main__\":\n",
    "    main()"
   ]
  },
  {
   "cell_type": "code",
   "execution_count": 83,
   "metadata": {},
   "outputs": [],
   "source": [
    "# TEST\n",
    "# imtest = np.load('../../data/tidy/preprocessed_images/size64_exp5_Pr_Im.npy', allow_pickle=True)\n",
    "# plt.imshow(imtest[0][0])"
   ]
  }
 ],
 "metadata": {
  "kernelspec": {
   "display_name": "Python 3",
   "language": "python",
   "name": "python3"
  },
  "language_info": {
   "codemirror_mode": {
    "name": "ipython",
    "version": 3
   },
   "file_extension": ".py",
   "mimetype": "text/x-python",
   "name": "python",
   "nbconvert_exporter": "python",
   "pygments_lexer": "ipython3",
   "version": "3.8.3"
  }
 },
 "nbformat": 4,
 "nbformat_minor": 1
}
