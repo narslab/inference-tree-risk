{
 "cells": [
  {
   "cell_type": "code",
   "execution_count": 1,
   "metadata": {},
   "outputs": [],
   "source": [
    "#!/usr/bin/env python\n",
    "# coding: utf-8\n",
    "\n",
    "from PIL import Image # used for loading images\n",
    "import numpy as np\n",
    "import os # used for navigating to image path\n",
    "import imageio # used for writing images\n",
    "import re # for matching image file name classes\n",
    "import matplotlib.pyplot as plt\n",
    "import random\n",
    "import ntpath\n",
    "import csv\n",
    "from timeit import default_timer as timer"
   ]
  },
  {
   "cell_type": "code",
   "execution_count": 2,
   "metadata": {},
   "outputs": [],
   "source": [
    "RAW_IMAGE_DIR = '../../data/raw/Pictures for AI/'\n",
    "LABEL_IMAGE_DIR = '../../data/tidy/labeled_images/'\n",
    "TIDY_IMAGE_DIR = '../../data/tidy/unlabeled_images/'\n",
    "ARB_CLASS_DIR = '../../results/arborist_collective/'\n",
    "SAVE_NAME_DIR = '../../data/tidy/unlabeled_images/'"
   ]
  },
  {
   "cell_type": "code",
   "execution_count": 3,
   "metadata": {},
   "outputs": [],
   "source": [
    "def getListOfFiles(dirName):\n",
    "    \"\"\"Returns single list of the filepath of each of the training image files\"\"\"\n",
    "    # source: https://thispointer.com/python-how-to-get-list-of-files-in-directory-and-sub-directories/\n",
    "    listOfFile = os.listdir(dirName)\n",
    "    allFiles = list()\n",
    "    # Iterate over all the entries\n",
    "    for entry in listOfFile:\n",
    "        # Create full path\n",
    "        fullPath = os.path.join(dirName, entry)\n",
    "        # If entry is a directory then get the list of files in this directory \n",
    "        if os.path.isdir(fullPath):\n",
    "            allFiles = allFiles + getListOfFiles(fullPath)\n",
    "        else:\n",
    "            allFiles.append(fullPath)\n",
    "                \n",
    "    return allFiles"
   ]
  },
  {
   "cell_type": "code",
   "execution_count": 4,
   "metadata": {},
   "outputs": [],
   "source": [
    "def saveUnlabeledImage(image_file_list):\n",
    "    \"\"\"Save images to data/tidy/unlabeled_images, create image index and classification csv files\"\"\"\n",
    "    csv_col_index = ['Unlabeled Image', 'Original Classification']\n",
    "    csv_col_classifier = ['Image Name', 'Category']\n",
    "    index = {}\n",
    "    classifier = {}\n",
    "    counter = 1\n",
    "    if not os.path.exists(TIDY_IMAGE_DIR):\n",
    "        os.makedirs(TIDY_IMAGE_DIR)\n",
    "    for filename in image_file_list:\n",
    "        if '.JPG' in filename or '.jpg' in filename:        \n",
    "            save_name = TIDY_IMAGE_DIR + 'image' + '-' + str(counter) + '.jpg'\n",
    "            index[save_name] = filename\n",
    "            #imageio.imwrite(save_name, np.array(Image.open(filename)))\n",
    "            counter += 1\n",
    "    if not os.path.exists(ARB_CLASS_DIR):\n",
    "        os.makedirs(ARB_CLASS_DIR)\n",
    "    with open(ARB_CLASS_DIR + 'labels_index.csv', 'w') as f:\n",
    "        writer = csv.DictWriter(f, fieldnames=csv_col_index)\n",
    "        writer.writeheader()\n",
    "        for key in index.keys():\n",
    "            key_name = key.replace(SAVE_NAME_DIR,'')\n",
    "            classifier[key_name] = ''\n",
    "            val_name = index[key].replace(LABEL_IMAGE_DIR,'')\n",
    "            f.write(\"%s,%s\\n\"%(key_name,val_name))\n",
    "    with open(ARB_CLASS_DIR + 'category_assignment.csv', 'w') as f:\n",
    "        writer = csv.DictWriter(f, fieldnames=csv_col_classifier)\n",
    "        writer.writeheader()\n",
    "        for key in classifier.keys():\n",
    "            f.write(\"%s,%s\\n\"%(key,classifier[key]))"
   ]
  },
  {
   "cell_type": "code",
   "execution_count": 5,
   "metadata": {},
   "outputs": [],
   "source": [
    "tree_image_list = getListOfFiles(LABEL_IMAGE_DIR)"
   ]
  },
  {
   "cell_type": "code",
   "execution_count": null,
   "metadata": {},
   "outputs": [],
   "source": [
    "start = timer()\n",
    "saveUnlabeledImage(tree_image_list)\n",
    "start = timer()\n",
    "end = timer()\n",
    "print(end - start) # Time in seconds, e.g. 5.380919524002"
   ]
  }
 ],
 "metadata": {
  "kernelspec": {
   "display_name": "Python 3",
   "language": "python",
   "name": "python3"
  },
  "language_info": {
   "codemirror_mode": {
    "name": "ipython",
    "version": 3
   },
   "file_extension": ".py",
   "mimetype": "text/x-python",
   "name": "python",
   "nbconvert_exporter": "python",
   "pygments_lexer": "ipython3",
   "version": "3.9.6"
  }
 },
 "nbformat": 4,
 "nbformat_minor": 4
}
