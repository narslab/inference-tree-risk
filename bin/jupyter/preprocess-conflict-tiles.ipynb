{
 "cells": [
  {
   "cell_type": "code",
   "execution_count": 1,
   "id": "2a7edc27-de07-459a-8e4a-d1097ac72be8",
   "metadata": {},
   "outputs": [],
   "source": [
    "import sys\n",
    "import os # used for navigating to image path\n",
    "import numpy as np\n",
    "import pandas as pd\n",
    "import csv\n",
    "from PIL import Image\n",
    "import imageio # used for writing images\n",
    "from sklearn.model_selection import train_test_split\n",
    "sys.path.append(os.path.abspath('../python'))\n",
    "from helpers import *"
   ]
  },
  {
   "cell_type": "code",
   "execution_count": 2,
   "id": "94324433-dd3a-40b6-a8c4-204aa33b585d",
   "metadata": {},
   "outputs": [],
   "source": [
    "SEED = 100\n",
    "IMAGE_WIDTH_LIST = [189]#, 252, 336]\n",
    "ALL_TILES = '../../data/tidy/conflict-split-images/all_tiles/'\n",
    "PROCESSED_TILES_DIR = '../../data/tidy/conflict-split-images/preprocessed-tiles'\n",
    "TILES_ASSIGNMENT = '../../data/tidy/conflict-split-images/tiles_assignment.csv'"
   ]
  },
  {
   "cell_type": "code",
   "execution_count": 3,
   "id": "0a0d639d-e68b-4ef7-9d3c-49081f063643",
   "metadata": {},
   "outputs": [],
   "source": [
    "d = pd.read_csv(TILES_ASSIGNMENT)"
   ]
  },
  {
   "cell_type": "code",
   "execution_count": 4,
   "id": "1c4d82d8-d145-4e3e-ba0b-4c996ea1d9d2",
   "metadata": {},
   "outputs": [
    {
     "data": {
      "text/html": [
       "<div>\n",
       "<style scoped>\n",
       "    .dataframe tbody tr th:only-of-type {\n",
       "        vertical-align: middle;\n",
       "    }\n",
       "\n",
       "    .dataframe tbody tr th {\n",
       "        vertical-align: top;\n",
       "    }\n",
       "\n",
       "    .dataframe thead th {\n",
       "        text-align: right;\n",
       "    }\n",
       "</style>\n",
       "<table border=\"1\" class=\"dataframe\">\n",
       "  <thead>\n",
       "    <tr style=\"text-align: right;\">\n",
       "      <th></th>\n",
       "      <th>Filename</th>\n",
       "      <th>Classification</th>\n",
       "    </tr>\n",
       "  </thead>\n",
       "  <tbody>\n",
       "    <tr>\n",
       "      <th>0</th>\n",
       "      <td>improbable-1_0_0.jpg</td>\n",
       "      <td>NaN</td>\n",
       "    </tr>\n",
       "    <tr>\n",
       "      <th>1</th>\n",
       "      <td>improbable-1_0_336.jpg</td>\n",
       "      <td>NaN</td>\n",
       "    </tr>\n",
       "    <tr>\n",
       "      <th>2</th>\n",
       "      <td>improbable-1_0_672.jpg</td>\n",
       "      <td>NaN</td>\n",
       "    </tr>\n",
       "    <tr>\n",
       "      <th>3</th>\n",
       "      <td>improbable-1_0_1008.jpg</td>\n",
       "      <td>NaN</td>\n",
       "    </tr>\n",
       "    <tr>\n",
       "      <th>4</th>\n",
       "      <td>improbable-1_0_1344.jpg</td>\n",
       "      <td>NaN</td>\n",
       "    </tr>\n",
       "  </tbody>\n",
       "</table>\n",
       "</div>"
      ],
      "text/plain": [
       "                  Filename  Classification\n",
       "0     improbable-1_0_0.jpg             NaN\n",
       "1   improbable-1_0_336.jpg             NaN\n",
       "2   improbable-1_0_672.jpg             NaN\n",
       "3  improbable-1_0_1008.jpg             NaN\n",
       "4  improbable-1_0_1344.jpg             NaN"
      ]
     },
     "execution_count": 4,
     "metadata": {},
     "output_type": "execute_result"
    }
   ],
   "source": [
    "d.head()"
   ]
  },
  {
   "cell_type": "code",
   "execution_count": 5,
   "id": "d1cc6ec1-e01e-4e28-aeed-747d1613cacc",
   "metadata": {},
   "outputs": [],
   "source": [
    "def assign_sample_tiles(unassigned_tiles_path):\n",
    "    \"\"\"Randomly classifies tiles as 'c'(conflict) or 'n'(no conflict)\"\"\"\n",
    "    \n",
    "    data = pd.read_csv(unassigned_tiles_path)\n",
    "    data['Classification'] = np.random.choice(['c','n'], size=len(data))\n",
    "    \n",
    "    return(data)"
   ]
  },
  {
   "cell_type": "code",
   "execution_count": 6,
   "id": "fc75582d-7eab-444a-80fd-fe28f0f10264",
   "metadata": {},
   "outputs": [],
   "source": [
    "sample_df = assign_sample_tiles(TILES_ASSIGNMENT)"
   ]
  },
  {
   "cell_type": "code",
   "execution_count": 7,
   "id": "c34739f2-661f-43fb-a5da-bc9638fdf3de",
   "metadata": {},
   "outputs": [
    {
     "data": {
      "text/html": [
       "<div>\n",
       "<style scoped>\n",
       "    .dataframe tbody tr th:only-of-type {\n",
       "        vertical-align: middle;\n",
       "    }\n",
       "\n",
       "    .dataframe tbody tr th {\n",
       "        vertical-align: top;\n",
       "    }\n",
       "\n",
       "    .dataframe thead th {\n",
       "        text-align: right;\n",
       "    }\n",
       "</style>\n",
       "<table border=\"1\" class=\"dataframe\">\n",
       "  <thead>\n",
       "    <tr style=\"text-align: right;\">\n",
       "      <th></th>\n",
       "      <th>Filename</th>\n",
       "      <th>Classification</th>\n",
       "    </tr>\n",
       "  </thead>\n",
       "  <tbody>\n",
       "    <tr>\n",
       "      <th>0</th>\n",
       "      <td>improbable-1_0_0.jpg</td>\n",
       "      <td>n</td>\n",
       "    </tr>\n",
       "    <tr>\n",
       "      <th>1</th>\n",
       "      <td>improbable-1_0_336.jpg</td>\n",
       "      <td>n</td>\n",
       "    </tr>\n",
       "    <tr>\n",
       "      <th>2</th>\n",
       "      <td>improbable-1_0_672.jpg</td>\n",
       "      <td>c</td>\n",
       "    </tr>\n",
       "    <tr>\n",
       "      <th>3</th>\n",
       "      <td>improbable-1_0_1008.jpg</td>\n",
       "      <td>c</td>\n",
       "    </tr>\n",
       "    <tr>\n",
       "      <th>4</th>\n",
       "      <td>improbable-1_0_1344.jpg</td>\n",
       "      <td>c</td>\n",
       "    </tr>\n",
       "  </tbody>\n",
       "</table>\n",
       "</div>"
      ],
      "text/plain": [
       "                  Filename Classification\n",
       "0     improbable-1_0_0.jpg              n\n",
       "1   improbable-1_0_336.jpg              n\n",
       "2   improbable-1_0_672.jpg              c\n",
       "3  improbable-1_0_1008.jpg              c\n",
       "4  improbable-1_0_1344.jpg              c"
      ]
     },
     "execution_count": 7,
     "metadata": {},
     "output_type": "execute_result"
    }
   ],
   "source": [
    "sample_df.head()"
   ]
  },
  {
   "cell_type": "code",
   "execution_count": 8,
   "id": "55b92b65-a6d5-4f3e-84a3-501f685a59db",
   "metadata": {},
   "outputs": [],
   "source": [
    "def generate_index(sample_data): #path_to_tiles_assignment\n",
    "    \"\"\"Serially labels all tiles by class and generates an index to data/tidy/conflict_split_images\"\"\"\n",
    "    \n",
    "#     data = pd.read_csv(path_to_tiles_assignment)\n",
    "#     data = data.drop([0])\n",
    "    \n",
    "    df = pd.DataFrame(columns=['original', 'tile', 'classification'])\n",
    "    \n",
    "    conflict_counter    = 1\n",
    "    no_conflict_counter = 1\n",
    "    unknown_counter = 1\n",
    "    counters = {}\n",
    "        \n",
    "    for row in sample_data.itertuples():\n",
    "        tile = row.Filename\n",
    "        original_image = str(os.path.splitext(tile)).split('_')[0][2:]\n",
    "        classification = row.Classification\n",
    "\n",
    "        if classification.lower() == 'c':        \n",
    "            save_label = 'conflict' + '-' + str(conflict_counter) + '.jpg'\n",
    "            df.loc[row.Index] = [original_image] + [tile] + [save_label]\n",
    "            conflict_counter += 1\n",
    "        elif classification.lower() == 'n':\n",
    "            save_label = 'no_conflict' + '-' + str(no_conflict_counter) + '.jpg'\n",
    "            df.loc[row.Index] = [original_image] + [tile] + [save_label]\n",
    "            no_conflict_counter += 1\n",
    "        else:\n",
    "            save_label = 'unknown' + '-' + str(unknown_counter) + '.jpg'\n",
    "            df.loc[row.Index] = [original_image] + [tile] + [save_label]\n",
    "            unknown_counter += 1\n",
    "    \n",
    "    df.to_csv('../../data/tidy/conflict-split-images/tile_index_mapping.csv', encoding='utf-8', index=False)\n",
    "    \n",
    "    counters['conflict'] = conflict_counter - 1\n",
    "    counters['no_conflict'] = no_conflict_counter - 1\n",
    "    counters['unknown'] = unknown_counter -1 \n",
    "    \n",
    "    print('Number of conflict tiles recorded:', counters['conflict'])    \n",
    "    print('Number of no-conflict tiles recorded:', counters['no_conflict'])\n",
    "    print('Number of unknown tiles:', counters['unknown'])\n",
    "        \n",
    "    return df, counters"
   ]
  },
  {
   "cell_type": "code",
   "execution_count": 9,
   "id": "e92c7003-35f7-4645-88a4-8a33cc6ee44d",
   "metadata": {},
   "outputs": [
    {
     "name": "stdout",
     "output_type": "stream",
     "text": [
      "Number of conflict tiles recorded: 303\n",
      "Number of no-conflict tiles recorded: 264\n",
      "Number of unknown tiles: 0\n"
     ]
    }
   ],
   "source": [
    "df, c = generate_index(sample_df)"
   ]
  },
  {
   "cell_type": "code",
   "execution_count": 10,
   "id": "6737c4e5-13a5-4324-bce5-388675e8d4d6",
   "metadata": {},
   "outputs": [
    {
     "data": {
      "text/html": [
       "<div>\n",
       "<style scoped>\n",
       "    .dataframe tbody tr th:only-of-type {\n",
       "        vertical-align: middle;\n",
       "    }\n",
       "\n",
       "    .dataframe tbody tr th {\n",
       "        vertical-align: top;\n",
       "    }\n",
       "\n",
       "    .dataframe thead th {\n",
       "        text-align: right;\n",
       "    }\n",
       "</style>\n",
       "<table border=\"1\" class=\"dataframe\">\n",
       "  <thead>\n",
       "    <tr style=\"text-align: right;\">\n",
       "      <th></th>\n",
       "      <th>original</th>\n",
       "      <th>tile</th>\n",
       "      <th>classification</th>\n",
       "    </tr>\n",
       "  </thead>\n",
       "  <tbody>\n",
       "    <tr>\n",
       "      <th>0</th>\n",
       "      <td>improbable-1</td>\n",
       "      <td>improbable-1_0_0.jpg</td>\n",
       "      <td>no_conflict-1.jpg</td>\n",
       "    </tr>\n",
       "    <tr>\n",
       "      <th>1</th>\n",
       "      <td>improbable-1</td>\n",
       "      <td>improbable-1_0_336.jpg</td>\n",
       "      <td>no_conflict-2.jpg</td>\n",
       "    </tr>\n",
       "    <tr>\n",
       "      <th>2</th>\n",
       "      <td>improbable-1</td>\n",
       "      <td>improbable-1_0_672.jpg</td>\n",
       "      <td>conflict-1.jpg</td>\n",
       "    </tr>\n",
       "    <tr>\n",
       "      <th>3</th>\n",
       "      <td>improbable-1</td>\n",
       "      <td>improbable-1_0_1008.jpg</td>\n",
       "      <td>conflict-2.jpg</td>\n",
       "    </tr>\n",
       "    <tr>\n",
       "      <th>4</th>\n",
       "      <td>improbable-1</td>\n",
       "      <td>improbable-1_0_1344.jpg</td>\n",
       "      <td>conflict-3.jpg</td>\n",
       "    </tr>\n",
       "    <tr>\n",
       "      <th>...</th>\n",
       "      <td>...</td>\n",
       "      <td>...</td>\n",
       "      <td>...</td>\n",
       "    </tr>\n",
       "    <tr>\n",
       "      <th>562</th>\n",
       "      <td>probable-2</td>\n",
       "      <td>probable-2_3584_1344.jpg</td>\n",
       "      <td>conflict-299.jpg</td>\n",
       "    </tr>\n",
       "    <tr>\n",
       "      <th>563</th>\n",
       "      <td>probable-2</td>\n",
       "      <td>probable-2_3584_1680.jpg</td>\n",
       "      <td>conflict-300.jpg</td>\n",
       "    </tr>\n",
       "    <tr>\n",
       "      <th>564</th>\n",
       "      <td>probable-2</td>\n",
       "      <td>probable-2_3584_2016.jpg</td>\n",
       "      <td>conflict-301.jpg</td>\n",
       "    </tr>\n",
       "    <tr>\n",
       "      <th>565</th>\n",
       "      <td>probable-2</td>\n",
       "      <td>probable-2_3584_2352.jpg</td>\n",
       "      <td>conflict-302.jpg</td>\n",
       "    </tr>\n",
       "    <tr>\n",
       "      <th>566</th>\n",
       "      <td>probable-2</td>\n",
       "      <td>probable-2_3584_2688.jpg</td>\n",
       "      <td>conflict-303.jpg</td>\n",
       "    </tr>\n",
       "  </tbody>\n",
       "</table>\n",
       "<p>567 rows × 3 columns</p>\n",
       "</div>"
      ],
      "text/plain": [
       "         original                      tile     classification\n",
       "0    improbable-1      improbable-1_0_0.jpg  no_conflict-1.jpg\n",
       "1    improbable-1    improbable-1_0_336.jpg  no_conflict-2.jpg\n",
       "2    improbable-1    improbable-1_0_672.jpg     conflict-1.jpg\n",
       "3    improbable-1   improbable-1_0_1008.jpg     conflict-2.jpg\n",
       "4    improbable-1   improbable-1_0_1344.jpg     conflict-3.jpg\n",
       "..            ...                       ...                ...\n",
       "562    probable-2  probable-2_3584_1344.jpg   conflict-299.jpg\n",
       "563    probable-2  probable-2_3584_1680.jpg   conflict-300.jpg\n",
       "564    probable-2  probable-2_3584_2016.jpg   conflict-301.jpg\n",
       "565    probable-2  probable-2_3584_2352.jpg   conflict-302.jpg\n",
       "566    probable-2  probable-2_3584_2688.jpg   conflict-303.jpg\n",
       "\n",
       "[567 rows x 3 columns]"
      ]
     },
     "execution_count": 10,
     "metadata": {},
     "output_type": "execute_result"
    }
   ],
   "source": [
    "df"
   ]
  },
  {
   "cell_type": "code",
   "execution_count": 11,
   "id": "20fa973a-9e2b-4c6a-ba14-aeb82d17b1e9",
   "metadata": {
    "tags": []
   },
   "outputs": [],
   "source": [
    "def rename_tiles_conflict(data):\n",
    "    for filename in os.listdir(ALL_TILES):\n",
    "        for row in data.itertuples():\n",
    "            tile = row.tile\n",
    "            classification = row.classification\n",
    "            if tile == filename:\n",
    "                os.rename(ALL_TILES + filename, ALL_TILES + classification)\n",
    "                continue"
   ]
  },
  {
   "cell_type": "code",
   "execution_count": 12,
   "id": "35e1b4ff-5497-44a4-8030-45948fac0a76",
   "metadata": {
    "tags": []
   },
   "outputs": [],
   "source": [
    "rename_tiles_conflict(df)"
   ]
  },
  {
   "cell_type": "code",
   "execution_count": 13,
   "id": "56019a9d-3291-4a05-9fbb-329a1dc39acd",
   "metadata": {},
   "outputs": [],
   "source": [
    "def getImageOneHotVector(image_file_name):\n",
    "    \"\"\"Returns one-hot vector encoding for each sub-image based on the image file name:\n",
    "    Conflict: 1\n",
    "    No conflict: 0\n",
    "    Unknown: -1\n",
    "    \"\"\"\n",
    "    word_label = image_file_name.split('-')[0]\n",
    "    if word_label == 'conflict' : \n",
    "        return 1\n",
    "    elif word_label == 'no_conflict': \n",
    "        return 0\n",
    "    else:\n",
    "        return -1 # if label is not present for current image"
   ]
  },
  {
   "cell_type": "code",
   "execution_count": 14,
   "id": "3ce9d334-6917-4483-b780-c2d0a0366b2a",
   "metadata": {},
   "outputs": [],
   "source": [
    "labels = []\n",
    "for filename in os.listdir(ALL_TILES):\n",
    "    labels.append(filename.split('-')[0])"
   ]
  },
  {
   "cell_type": "code",
   "execution_count": 15,
   "id": "50e97e8c-8c67-4bd2-b4fa-3ca4ee56617f",
   "metadata": {},
   "outputs": [
    {
     "name": "stdout",
     "output_type": "stream",
     "text": [
      "{'no_conflict', 'conflict'}\n"
     ]
    }
   ],
   "source": [
    "print(set(labels))"
   ]
  },
  {
   "cell_type": "code",
   "execution_count": 16,
   "id": "a0a52fff-4ce1-4c48-8090-4b29c740c49d",
   "metadata": {},
   "outputs": [],
   "source": [
    "def processImageData(image_width, seed_value, save_image_binary_files=True, test = False): # original size 4032 × 3024 px\n",
    "    data_train = []\n",
    "    data_test = []\n",
    "    image_list = os.listdir(ALL_TILES) \n",
    "    random.seed(seed_value) #seed for repeatability\n",
    "#     print(\"Preprocessing images for image width \" + str(image_width) + \"px\")\n",
    "    image_list_train, image_list_test =  train_test_split(image_list, test_size = .2, random_state = seed_value)\n",
    "\n",
    "    for image_index in image_list:\n",
    "        label = getImageOneHotVector(image_index)\n",
    "        if label == -1: # if image labeled as unknown, move to next one\n",
    "            continue\n",
    "        path = os.path.join(ALL_TILES, image_index)\n",
    "        image = Image.open(path) # read in image\n",
    "#         print(np.array(image).shape)\n",
    "        image_width, image_height = image.size\n",
    "#         image_width = int(image_width) \n",
    "#         if rectangular==True:\n",
    "#             image_height = getRectangularImageHeight(image_width) #int(image.size[0] * image_width/image.size[1]) ##because of input orientation, this is flipped.\n",
    "#         else:\n",
    "#             image_height = image_width\n",
    "#         print(\"Image shape: \" + str(image.size))            \n",
    "        if test == True:\n",
    "            pass\n",
    "        if image_index in image_list_train:\n",
    "            data_train.append([image_list_train, label])\n",
    "        else:\n",
    "            data_test.append([image_list_train, label])            \n",
    "#     print(len(data_train))\n",
    "#     print(len(data_test))  \n",
    "    print(\"Training Images:\", (np.array([x[1] for x in data_train])).sum(axis=0) )\n",
    "    print(\"Test Images:\", (np.array([x[1] for x in data_test])).sum(axis=0) )\n",
    "    filename_prefix = 'w-' + str(image_width) + 'px-h-' + str(image_height)+ 'px'\n",
    "    data_filename_train = filename_prefix+ \"-train.npy\"\n",
    "    data_filename_test = filename_prefix + \"-test.npy\"\n",
    "    if not os.path.exists(PROCESSED_TILES_DIR): # check if 'tidy/preprocessed_tiles' subdirectory does not exist\n",
    "        os.makedirs(PROCESSED_TILES_DIR) # if not, create it    \n",
    "    if save_image_binary_files == True:\n",
    "        if test == True:\n",
    "            data_filename_train = 'testing-' + data_filename_train\n",
    "            data_filename_test = 'testing-' + data_filename_test\n",
    "        np.save(os.path.join(PROCESSED_TILES_DIR, data_filename_train), data_train) #save as .npy (binary) file\n",
    "        np.save(os.path.join(PROCESSED_TILES_DIR, data_filename_test), data_test) #save as .npy (binary) file        \n",
    "        print(\"Saved \" + data_filename_train + \" to data/tidy/\" + PROCESSED_TILES_DIR)\n",
    "        print(\"Saved \" + data_filename_test + \" to data/tidy/\" + PROCESSED_TILES_DIR)        \n",
    "    return  #(image_selection_array, class_list)"
   ]
  },
  {
   "cell_type": "code",
   "execution_count": 17,
   "id": "998fda0d-4611-4b8b-b3a9-5cd74026edf6",
   "metadata": {
    "tags": []
   },
   "outputs": [
    {
     "name": "stdout",
     "output_type": "stream",
     "text": [
      "Training Images: 244\n",
      "Test Images: 59\n",
      "Saved w-336px-h-448px-train.npy to data/tidy/../../data/tidy/conflict-split-images/preprocessed-tiles\n",
      "Saved w-336px-h-448px-test.npy to data/tidy/../../data/tidy/conflict-split-images/preprocessed-tiles\n"
     ]
    },
    {
     "name": "stderr",
     "output_type": "stream",
     "text": [
      "C:\\Users\\nasko\\anaconda3\\lib\\site-packages\\numpy\\core\\_asarray.py:171: VisibleDeprecationWarning: Creating an ndarray from ragged nested sequences (which is a list-or-tuple of lists-or-tuples-or ndarrays with different lengths or shapes) is deprecated. If you meant to do this, you must specify 'dtype=object' when creating the ndarray.\n",
      "  return array(a, dtype, copy=False, order=order, subok=True)\n"
     ]
    }
   ],
   "source": [
    "for width in IMAGE_WIDTH_LIST:\n",
    "    processImageData(width, seed_value=SEED, save_image_binary_files=True, test=False)"
   ]
  },
  {
   "cell_type": "code",
   "execution_count": null,
   "id": "425169d0-f6e2-46d3-865e-4524d7edcef7",
   "metadata": {},
   "outputs": [],
   "source": []
  }
 ],
 "metadata": {
  "kernelspec": {
   "display_name": "Python 3",
   "language": "python",
   "name": "python3"
  },
  "language_info": {
   "codemirror_mode": {
    "name": "ipython",
    "version": 3
   },
   "file_extension": ".py",
   "mimetype": "text/x-python",
   "name": "python",
   "nbconvert_exporter": "python",
   "pygments_lexer": "ipython3",
   "version": "3.8.3"
  }
 },
 "nbformat": 4,
 "nbformat_minor": 5
}
