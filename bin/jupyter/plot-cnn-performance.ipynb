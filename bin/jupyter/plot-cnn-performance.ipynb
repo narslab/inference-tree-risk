{
 "cells": [
  {
   "cell_type": "code",
   "execution_count": null,
   "metadata": {},
   "outputs": [],
   "source": [
    "\n",
    "# UNFINISHED\n",
    "\n",
    "melted_df = dfm.melt(id_vars = [\"epoch\", \"Scenario\"], value_vars = [\"loss\", \"accuracy\", \"val_loss\", \"val_accuracy\", \"val_f1\", \"val_precision\", \"val_recall\"], var_name = \"metric\", value_name = \"value\")\n",
    "melted_df[\"metric_type\"] = None\n",
    "melted_df[\"phase\"] = \"Validation\"\n",
    "melted_df.loc[melted_df.metric.isin([\"loss\", \"val_loss\"]), \"metric_type\"] = \"Loss\"\n",
    "melted_df.loc[melted_df.metric.isin([\"accuracy\", \"val_accuracy\", \"val_f1\", \"val_precision\", \"val_recall\"]), \"metric_type\"] = \"Performance\"\n",
    "melted_df.loc[melted_df.metric.isin([\"loss\", \"accuracy\"]), \"phase\"] = \"Training\"\n",
    "num_epochs = 2\n",
    "print(melted_df.metric.unique())\n",
    "g = sns.FacetGrid(melted_df, col=\"Scenario\", row=\"metric_type\", sharey = False)\n",
    "g.map_dataframe(sns.lineplot, x = \"epoch\", y = \"value\", ci=None, style=\"phase\", hue = \"metric\")#, palette= sns.color_palette(\"Paired\", n_colors=4) )\n",
    "g.set_axis_labels(\"Epoch\", \"\")\n",
    "g.add_legend() \n",
    "## Customize legend\n",
    "# g._legend.texts[0].set_text(\"Resolution\")\n",
    "# g._legend.texts[num_resolutions + 1].set_text(\"\") #Data\n",
    "# g._legend.texts[num_resolutions + 2].set_text(\"Training\")\n",
    "# g._legend.texts[num_resolutions + 3].set_text(\"Validation\")    \n",
    "# g._legend.texts[num_resolutions + 4].set_text(\"\")    \n",
    "# g._legend.texts[num_resolutions + 5].set_text(\"\")    \n",
    "# g._legend.legendHandles[num_resolutions + 4].set_linewidth(0)\n",
    "# g._legend.legendHandles[num_resolutions + 5].set_linewidth(0)    \n",
    "# g._legend._legend_box.sep = 5\n",
    "axes = g.axes\n",
    "for row, axlist in enumerate(axes):\n",
    "    if row==0:\n",
    "        for col, axis in enumerate(axes[row]):\n",
    "            axes[row, col].set_ylim(0, 1.1)#.75 \n",
    "            axes[row, col].set_xlim(1, num_epochs)\n",
    "            axes[row, col].xaxis.set_major_locator(tkr.AutoLocator())\n",
    "            axes[row, col].set_title(\"Scenario: \" + str(axes[row, col].title).split(\"Scenario = \")[1].split(\")\")[0].split(\"\\'\")[0])\n",
    "            if col != 0:\n",
    "                axes[row, col].get_yaxis().set_ticklabels([])\n",
    "            else:\n",
    "                axes[row, col].set_ylabel(\"Loss\")\n",
    "    elif row==1:\n",
    "        for col, axis in enumerate(axes[row]):\n",
    "            axes[row, col].set_ylim(0.5, 1)\n",
    "            axes[row, col].set_xlim(1, num_epochs)\n",
    "            axes[row, col].set_title(\"\")\n",
    "            if col != 0:\n",
    "                axes[row, col].get_yaxis().set_ticklabels([])\n",
    "            else:\n",
    "                axes[row, col].set_ylabel(\"Performance\")\n",
    "#g.savefig(\"../../figures/scenario_resolution_performance.png\", dpi=180)"
   ]
  }
 ],
 "metadata": {
  "kernelspec": {
   "display_name": "Python 3",
   "language": "python",
   "name": "python3"
  },
  "language_info": {
   "codemirror_mode": {
    "name": "ipython",
    "version": 3
   },
   "file_extension": ".py",
   "mimetype": "text/x-python",
   "name": "python",
   "nbconvert_exporter": "python",
   "pygments_lexer": "ipython3",
   "version": "3.9.1"
  }
 },
 "nbformat": 4,
 "nbformat_minor": 4
}
